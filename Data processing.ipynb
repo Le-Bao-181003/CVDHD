{
  "cells": [
    {
      "cell_type": "markdown",
      "metadata": {
        "id": "3dUGIgNNVfZ8"
      },
      "source": [
        "#Download data"
      ]
    },
    {
      "cell_type": "code",
      "execution_count": null,
      "metadata": {
        "colab": {
          "base_uri": "https://localhost:8080/"
        },
        "id": "8eTz1kxCP9T5",
        "outputId": "c6fa05bf-acfb-4879-dbcb-ebd3aea6720a"
      },
      "outputs": [
        {
          "output_type": "stream",
          "name": "stderr",
          "text": [
            "Downloading...\n",
            "From (original): https://drive.google.com/uc?id=12MaWUidLC91zFaX2QEoLxEiGE-MKIIjY\n",
            "From (redirected): https://drive.google.com/uc?id=12MaWUidLC91zFaX2QEoLxEiGE-MKIIjY&confirm=t&uuid=2426b44a-4a77-48f8-b766-dd9a1e5644a0\n",
            "To: /content/data.zip\n",
            "100%|██████████| 630M/630M [00:05<00:00, 109MB/s]\n"
          ]
        }
      ],
      "source": [
        "import gdown\n",
        "import zipfile\n",
        "import os\n",
        "\n",
        "# Đường dẫn đến file zip trên Google Drive\n",
        "google_drive_link = \"https://drive.google.com/uc?id=12MaWUidLC91zFaX2QEoLxEiGE-MKIIjY\"\n",
        "\n",
        "# Tải file zip từ Google Drive\n",
        "output_zip = \"data.zip\"\n",
        "gdown.download(google_drive_link, output_zip, quiet=False)\n",
        "\n",
        "# Giải nén file zip\n",
        "with zipfile.ZipFile(output_zip, 'r') as zip_ref:\n",
        "    zip_ref.extractall(\"data_folder\")  # Thay \"data_folder\" bằng đường dẫn thư mục bạn muốn lưu trữ dữ liệu giải nén\n",
        "\n",
        "# Xóa file zip sau khi đã giải nén\n",
        "os.remove(output_zip)"
      ]
    },
    {
      "cell_type": "markdown",
      "metadata": {
        "id": "AQ4zSWIPVlC3"
      },
      "source": [
        "#Install environment"
      ]
    },
    {
      "cell_type": "code",
      "execution_count": null,
      "metadata": {
        "colab": {
          "base_uri": "https://localhost:8080/"
        },
        "id": "p4BGr2h6UJdq",
        "outputId": "37f30bcb-7b08-49be-c7c5-770cea339f2d"
      },
      "outputs": [
        {
          "output_type": "stream",
          "name": "stdout",
          "text": [
            "Requirement already satisfied: pandas in /usr/local/lib/python3.10/dist-packages (2.0.3)\n",
            "Requirement already satisfied: geopandas in /usr/local/lib/python3.10/dist-packages (0.13.2)\n",
            "Requirement already satisfied: rasterio in /usr/local/lib/python3.10/dist-packages (1.3.10)\n",
            "Requirement already satisfied: pyproj in /usr/local/lib/python3.10/dist-packages (3.6.1)\n",
            "Requirement already satisfied: scikit-learn in /usr/local/lib/python3.10/dist-packages (1.2.2)\n",
            "Requirement already satisfied: scipy in /usr/local/lib/python3.10/dist-packages (1.11.4)\n",
            "Requirement already satisfied: python-dateutil>=2.8.2 in /usr/local/lib/python3.10/dist-packages (from pandas) (2.8.2)\n",
            "Requirement already satisfied: pytz>=2020.1 in /usr/local/lib/python3.10/dist-packages (from pandas) (2023.4)\n",
            "Requirement already satisfied: tzdata>=2022.1 in /usr/local/lib/python3.10/dist-packages (from pandas) (2024.1)\n",
            "Requirement already satisfied: numpy>=1.21.0 in /usr/local/lib/python3.10/dist-packages (from pandas) (1.25.2)\n",
            "Requirement already satisfied: fiona>=1.8.19 in /usr/local/lib/python3.10/dist-packages (from geopandas) (1.9.6)\n",
            "Requirement already satisfied: packaging in /usr/local/lib/python3.10/dist-packages (from geopandas) (24.0)\n",
            "Requirement already satisfied: shapely>=1.7.1 in /usr/local/lib/python3.10/dist-packages (from geopandas) (2.0.4)\n",
            "Requirement already satisfied: affine in /usr/local/lib/python3.10/dist-packages (from rasterio) (2.4.0)\n",
            "Requirement already satisfied: attrs in /usr/local/lib/python3.10/dist-packages (from rasterio) (23.2.0)\n",
            "Requirement already satisfied: certifi in /usr/local/lib/python3.10/dist-packages (from rasterio) (2024.2.2)\n",
            "Requirement already satisfied: click>=4.0 in /usr/local/lib/python3.10/dist-packages (from rasterio) (8.1.7)\n",
            "Requirement already satisfied: cligj>=0.5 in /usr/local/lib/python3.10/dist-packages (from rasterio) (0.7.2)\n",
            "Requirement already satisfied: snuggs>=1.4.1 in /usr/local/lib/python3.10/dist-packages (from rasterio) (1.4.7)\n",
            "Requirement already satisfied: click-plugins in /usr/local/lib/python3.10/dist-packages (from rasterio) (1.1.1)\n",
            "Requirement already satisfied: setuptools in /usr/local/lib/python3.10/dist-packages (from rasterio) (67.7.2)\n",
            "Requirement already satisfied: joblib>=1.1.1 in /usr/local/lib/python3.10/dist-packages (from scikit-learn) (1.4.2)\n",
            "Requirement already satisfied: threadpoolctl>=2.0.0 in /usr/local/lib/python3.10/dist-packages (from scikit-learn) (3.5.0)\n",
            "Requirement already satisfied: six in /usr/local/lib/python3.10/dist-packages (from fiona>=1.8.19->geopandas) (1.16.0)\n",
            "Requirement already satisfied: pyparsing>=2.1.6 in /usr/local/lib/python3.10/dist-packages (from snuggs>=1.4.1->rasterio) (3.1.2)\n"
          ]
        }
      ],
      "source": [
        "!pip install pandas geopandas rasterio pyproj scikit-learn scipy\n"
      ]
    },
    {
      "cell_type": "code",
      "execution_count": null,
      "metadata": {
        "colab": {
          "base_uri": "https://localhost:8080/"
        },
        "id": "Scdk_gNXUY4n",
        "outputId": "15cfba76-0818-401f-e5d2-338be219c65c"
      },
      "outputs": [
        {
          "output_type": "stream",
          "name": "stdout",
          "text": [
            "Requirement already satisfied: spglm in /usr/local/lib/python3.10/dist-packages (1.1.0)\n",
            "Requirement already satisfied: libpysal>=4.5 in /usr/local/lib/python3.10/dist-packages (from spglm) (4.10)\n",
            "Requirement already satisfied: numpy>=1.23 in /usr/local/lib/python3.10/dist-packages (from spglm) (1.25.2)\n",
            "Requirement already satisfied: scipy>=1.8 in /usr/local/lib/python3.10/dist-packages (from spglm) (1.11.4)\n",
            "Requirement already satisfied: spreg>=1.2 in /usr/local/lib/python3.10/dist-packages (from spglm) (1.4.2)\n",
            "Requirement already satisfied: beautifulsoup4>=4.10 in /usr/local/lib/python3.10/dist-packages (from libpysal>=4.5->spglm) (4.12.3)\n",
            "Requirement already satisfied: geopandas>=0.10.0 in /usr/local/lib/python3.10/dist-packages (from libpysal>=4.5->spglm) (0.13.2)\n",
            "Requirement already satisfied: packaging>=22 in /usr/local/lib/python3.10/dist-packages (from libpysal>=4.5->spglm) (24.0)\n",
            "Requirement already satisfied: pandas>=1.4 in /usr/local/lib/python3.10/dist-packages (from libpysal>=4.5->spglm) (2.0.3)\n",
            "Requirement already satisfied: platformdirs>=2.0.2 in /usr/local/lib/python3.10/dist-packages (from libpysal>=4.5->spglm) (4.2.1)\n",
            "Requirement already satisfied: requests>=2.27 in /usr/local/lib/python3.10/dist-packages (from libpysal>=4.5->spglm) (2.31.0)\n",
            "Requirement already satisfied: shapely>=2.0.1 in /usr/local/lib/python3.10/dist-packages (from libpysal>=4.5->spglm) (2.0.4)\n",
            "Requirement already satisfied: scikit-learn>=1.1 in /usr/local/lib/python3.10/dist-packages (from libpysal>=4.5->spglm) (1.2.2)\n",
            "Requirement already satisfied: soupsieve>1.2 in /usr/local/lib/python3.10/dist-packages (from beautifulsoup4>=4.10->libpysal>=4.5->spglm) (2.5)\n",
            "Requirement already satisfied: fiona>=1.8.19 in /usr/local/lib/python3.10/dist-packages (from geopandas>=0.10.0->libpysal>=4.5->spglm) (1.9.6)\n",
            "Requirement already satisfied: pyproj>=3.0.1 in /usr/local/lib/python3.10/dist-packages (from geopandas>=0.10.0->libpysal>=4.5->spglm) (3.6.1)\n",
            "Requirement already satisfied: python-dateutil>=2.8.2 in /usr/local/lib/python3.10/dist-packages (from pandas>=1.4->libpysal>=4.5->spglm) (2.8.2)\n",
            "Requirement already satisfied: pytz>=2020.1 in /usr/local/lib/python3.10/dist-packages (from pandas>=1.4->libpysal>=4.5->spglm) (2023.4)\n",
            "Requirement already satisfied: tzdata>=2022.1 in /usr/local/lib/python3.10/dist-packages (from pandas>=1.4->libpysal>=4.5->spglm) (2024.1)\n",
            "Requirement already satisfied: charset-normalizer<4,>=2 in /usr/local/lib/python3.10/dist-packages (from requests>=2.27->libpysal>=4.5->spglm) (3.3.2)\n",
            "Requirement already satisfied: idna<4,>=2.5 in /usr/local/lib/python3.10/dist-packages (from requests>=2.27->libpysal>=4.5->spglm) (3.7)\n",
            "Requirement already satisfied: urllib3<3,>=1.21.1 in /usr/local/lib/python3.10/dist-packages (from requests>=2.27->libpysal>=4.5->spglm) (2.0.7)\n",
            "Requirement already satisfied: certifi>=2017.4.17 in /usr/local/lib/python3.10/dist-packages (from requests>=2.27->libpysal>=4.5->spglm) (2024.2.2)\n",
            "Requirement already satisfied: joblib>=1.1.1 in /usr/local/lib/python3.10/dist-packages (from scikit-learn>=1.1->libpysal>=4.5->spglm) (1.4.2)\n",
            "Requirement already satisfied: threadpoolctl>=2.0.0 in /usr/local/lib/python3.10/dist-packages (from scikit-learn>=1.1->libpysal>=4.5->spglm) (3.5.0)\n",
            "Requirement already satisfied: attrs>=19.2.0 in /usr/local/lib/python3.10/dist-packages (from fiona>=1.8.19->geopandas>=0.10.0->libpysal>=4.5->spglm) (23.2.0)\n",
            "Requirement already satisfied: click~=8.0 in /usr/local/lib/python3.10/dist-packages (from fiona>=1.8.19->geopandas>=0.10.0->libpysal>=4.5->spglm) (8.1.7)\n",
            "Requirement already satisfied: click-plugins>=1.0 in /usr/local/lib/python3.10/dist-packages (from fiona>=1.8.19->geopandas>=0.10.0->libpysal>=4.5->spglm) (1.1.1)\n",
            "Requirement already satisfied: cligj>=0.5 in /usr/local/lib/python3.10/dist-packages (from fiona>=1.8.19->geopandas>=0.10.0->libpysal>=4.5->spglm) (0.7.2)\n",
            "Requirement already satisfied: six in /usr/local/lib/python3.10/dist-packages (from fiona>=1.8.19->geopandas>=0.10.0->libpysal>=4.5->spglm) (1.16.0)\n"
          ]
        }
      ],
      "source": [
        "!pip install spglm\n"
      ]
    },
    {
      "cell_type": "markdown",
      "metadata": {
        "id": "IffCe7iVVp4v"
      },
      "source": [
        "#Import"
      ]
    },
    {
      "cell_type": "code",
      "execution_count": null,
      "metadata": {
        "id": "RDezE7l6UBWl"
      },
      "outputs": [],
      "source": [
        "import os\n",
        "import glob\n",
        "import numpy as np\n",
        "import pandas as pd\n",
        "import geopandas as gpd\n",
        "import rasterio\n",
        "from rasterio.plot import show\n",
        "from rasterio.mask import mask\n",
        "from pyproj import Proj, transform\n",
        "from sklearn.model_selection import train_test_split\n",
        "from scipy.spatial.distance import cdist\n",
        "from scipy.stats import chi2\n",
        "import libpysal.weights as lp\n",
        "from spglm.family import Gaussian\n",
        "from spglm.glm import GLM\n",
        "import matplotlib.pyplot as plt"
      ]
    },
    {
      "cell_type": "markdown",
      "metadata": {
        "id": "UTgBGA-iJz6l"
      },
      "source": [
        "#Sol 1: create dataframe"
      ]
    },
    {
      "cell_type": "markdown",
      "metadata": {
        "id": "2XULXyXSyx7-"
      },
      "source": [
        "Failed because it took too much"
      ]
    },
    {
      "cell_type": "markdown",
      "metadata": {
        "id": "KUIu9xcjZxMk"
      },
      "source": [
        "##AWS"
      ]
    },
    {
      "cell_type": "markdown",
      "metadata": {
        "id": "0Ixt2g1XPqlP"
      },
      "source": [
        "###1 file"
      ]
    },
    {
      "cell_type": "code",
      "execution_count": null,
      "metadata": {
        "id": "gz59r9Q9Khhp"
      },
      "outputs": [],
      "source": [
        "from osgeo import gdal\n",
        "ds = gdal.Open(\"/content/data_folder/Data/precipitation/obs/2019/04/01/AWS_20190401000000.tif\")\n",
        "myarray = np.array(ds.GetRasterBand(1).ReadAsArray())"
      ]
    },
    {
      "cell_type": "code",
      "execution_count": null,
      "metadata": {
        "colab": {
          "base_uri": "https://localhost:8080/"
        },
        "id": "8jECR5BpKot6",
        "outputId": "1bc0bfa5-6185-4b93-9865-66fef454640b"
      },
      "outputs": [
        {
          "data": {
            "text/plain": [
              "(90, 250)"
            ]
          },
          "execution_count": 10,
          "metadata": {},
          "output_type": "execute_result"
        }
      ],
      "source": [
        "myarray.shape"
      ]
    },
    {
      "cell_type": "code",
      "execution_count": null,
      "metadata": {
        "colab": {
          "base_uri": "https://localhost:8080/"
        },
        "id": "Uv_0JeFeKs3V",
        "outputId": "742127d0-c13d-47dd-d73b-9f49bd625bd3"
      },
      "outputs": [
        {
          "name": "stdout",
          "output_type": "stream",
          "text": [
            "    Value  Row Position  Column Position\n",
            "0     0.2             3              115\n",
            "1     0.8             5              114\n",
            "2     0.6             6              116\n",
            "3    19.0             7              115\n",
            "4     1.2            15              115\n",
            "5     0.8            16              109\n",
            "6     0.1            20              135\n",
            "7     0.2            21              109\n",
            "8     0.8            23              122\n",
            "9     0.2            27              118\n",
            "10    2.8            30              122\n",
            "11    0.2            38               96\n"
          ]
        }
      ],
      "source": [
        "values = myarray[(myarray != -np.inf) & (myarray != 0)]\n",
        "row_indices, col_indices = np.where((myarray != -np.inf) & (myarray != 0))\n",
        "\n",
        "# Tạo DataFrame mới từ các giá trị và vị trí của chúng\n",
        "data = {'Value': values,\n",
        "        'Row Position': row_indices,\n",
        "        'Column Position': col_indices}\n",
        "df = pd.DataFrame(data)\n",
        "\n",
        "print(df)"
      ]
    },
    {
      "cell_type": "code",
      "execution_count": null,
      "metadata": {
        "colab": {
          "base_uri": "https://localhost:8080/"
        },
        "id": "3GXTuG_UdZL2",
        "outputId": "e6a562e0-6aba-460f-9ca9-207b4cdc26d2"
      },
      "outputs": [
        {
          "name": "stdout",
          "output_type": "stream",
          "text": [
            "<class 'numpy.float32'>\n",
            "0.2\n"
          ]
        }
      ],
      "source": [
        "print(type(myarray[3][115]))\n",
        "print(myarray[3][115])"
      ]
    },
    {
      "cell_type": "markdown",
      "metadata": {
        "id": "kSobO_vvPmtm"
      },
      "source": [
        "###1 folder"
      ]
    },
    {
      "cell_type": "code",
      "execution_count": null,
      "metadata": {
        "id": "h89Lf60YMxW9"
      },
      "outputs": [],
      "source": [
        "import os\n",
        "import numpy as np\n",
        "from osgeo import gdal\n",
        "import pandas as pd\n",
        "\n",
        "# Đường dẫn tới thư mục chứa các file TIFF\n",
        "folder_path = \"/content/data_folder/Data/precipitation/obs/2019/04/01/\"\n",
        "\n",
        "# Hàm để lấy tên của file (loại bỏ phần đuôi .tif và tiền tố \"AWS_\")\n",
        "def get_name(file):\n",
        "    return os.path.splitext(file)[0].replace(\"AWS_\", \"\")\n",
        "\n",
        "# Hàm để đọc dữ liệu từ file TIFF và tạo dataframe\n",
        "def read_tiff(file):\n",
        "    tif_file = os.path.join(folder_path, file)\n",
        "    ds = gdal.Open(tif_file)\n",
        "    myarray = np.array(ds.GetRasterBand(1).ReadAsArray())\n",
        "\n",
        "    # Lấy giá trị của các ô lớn hơn 0 và vị trí của chúng\n",
        "    values = myarray[(myarray > 0)]\n",
        "    row_indices, col_indices = np.where(myarray > 0)\n",
        "\n",
        "    # Tạo DataFrame từ các giá trị và vị trí của chúng\n",
        "    data = {'Value': values,\n",
        "            'Row Position': row_indices,\n",
        "            'Column Position': col_indices}\n",
        "    df = pd.DataFrame(data)\n",
        "\n",
        "    # Lấy tên của file từ đường dẫn\n",
        "    file_name = get_name(file)\n",
        "\n",
        "    # Thêm cột 'name' với giá trị tên của file\n",
        "    df['name'] = file_name\n",
        "\n",
        "    return df\n"
      ]
    },
    {
      "cell_type": "code",
      "execution_count": null,
      "metadata": {
        "colab": {
          "base_uri": "https://localhost:8080/"
        },
        "id": "n2LrLyU0M1aO",
        "outputId": "edfc6751-0519-494e-ebc6-a62c6cf42f37"
      },
      "outputs": [
        {
          "name": "stdout",
          "output_type": "stream",
          "text": [
            "     Value  Row Position  Column Position            name\n",
            "0      9.2             0              114  20190401020000\n",
            "1     30.6             0              116  20190401020000\n",
            "2     22.0             0              118  20190401020000\n",
            "3      2.2             0              119  20190401020000\n",
            "4      4.2             0              122  20190401020000\n",
            "..     ...           ...              ...             ...\n",
            "908    0.2            35              105  20190401050000\n",
            "909    0.8            47              104  20190401050000\n",
            "910    0.6            54              102  20190401050000\n",
            "911    0.2            83              128  20190401050000\n",
            "912    7.4            84              124  20190401050000\n",
            "\n",
            "[913 rows x 4 columns]\n"
          ]
        }
      ],
      "source": [
        "# Tạo dataframe tổng hợp từ tất cả các file TIFF trong thư mục\n",
        "dfs = []\n",
        "for file in os.listdir(folder_path):\n",
        "    if file.endswith(\".tif\"):\n",
        "        dfs.append(read_tiff(file))\n",
        "\n",
        "# Kết hợp các dataframe lại thành một dataframe duy nhất\n",
        "result_df = pd.concat(dfs, ignore_index=True)\n",
        "\n",
        "# Hiển thị dataframe kết quả\n",
        "print(result_df)"
      ]
    },
    {
      "cell_type": "code",
      "execution_count": null,
      "metadata": {
        "id": "5V8adL02ONNY"
      },
      "outputs": [],
      "source": [
        "# Tạo file CSV từ dataframe result_df\n",
        "result_df.to_csv('/content/result_df.csv', index=False)"
      ]
    },
    {
      "cell_type": "markdown",
      "metadata": {
        "id": "c1woVOhIQG98"
      },
      "source": [
        "###1 month"
      ]
    },
    {
      "cell_type": "code",
      "execution_count": null,
      "metadata": {
        "id": "1ROV_z53QM_5"
      },
      "outputs": [],
      "source": [
        "import os\n",
        "import numpy as np\n",
        "from osgeo import gdal\n",
        "import pandas as pd\n",
        "\n",
        "# Hàm để đọc dữ liệu từ một thư mục ngày và tạo dataframe\n",
        "def read_day_folder(day_folder):\n",
        "    day_folder_path = os.path.join(month_folder_path, day_folder)\n",
        "    dfs = []\n",
        "    for file in os.listdir(day_folder_path):\n",
        "        if file.endswith(\".tif\"):\n",
        "            tif_file = os.path.join(day_folder_path, file)\n",
        "            ds = gdal.Open(tif_file)\n",
        "            myarray = np.array(ds.GetRasterBand(1).ReadAsArray())\n",
        "            values = myarray[(myarray > 0)]\n",
        "            row_indices, col_indices = np.where(myarray > 0)\n",
        "            data = {'Value': values,\n",
        "                    'Row Position': row_indices,\n",
        "                    'Column Position': col_indices}\n",
        "            df = pd.DataFrame(data)\n",
        "            df['name'] = os.path.splitext(file)[0].replace(\"AWS_\", \"\")\n",
        "            dfs.append(df)\n",
        "    return pd.concat(dfs, ignore_index=True)"
      ]
    },
    {
      "cell_type": "code",
      "execution_count": null,
      "metadata": {
        "colab": {
          "base_uri": "https://localhost:8080/"
        },
        "id": "zU93S0AkQIKu",
        "outputId": "f2a57244-09b2-48c1-cb71-c82f8c774445"
      },
      "outputs": [
        {
          "output_type": "stream",
          "name": "stdout",
          "text": [
            "        AWS  Row Position  Column Position            name\n",
            "6748   3.60             4              125  20201001000000\n",
            "6726   2.90             0              122  20201001000000\n",
            "6725   1.90             0              120  20201001000000\n",
            "6724   1.00             0              119  20201001000000\n",
            "6723   6.60             0              118  20201001000000\n",
            "...     ...           ...              ...             ...\n",
            "45635  0.20            53               98  20201031230000\n",
            "45634  0.50            37               81  20201031230000\n",
            "45633  0.05             8               88  20201031230000\n",
            "45650  0.70            87              132  20201031230000\n",
            "45636  0.20            58              105  20201031230000\n",
            "\n",
            "[48994 rows x 4 columns]\n"
          ]
        }
      ],
      "source": [
        "# Tạo dataframe tổng hợp từ tất cả các thư mục ngày trong thư mục của tháng\n",
        "dfs_month = []\n",
        "# Đường dẫn tới thư mục chứa các thư mục ngày\n",
        "month_folder_path = \"/content/data_folder/Data/precipitation/obs/2020/10\"\n",
        "for day_folder in os.listdir(month_folder_path):\n",
        "    if os.path.isdir(os.path.join(month_folder_path, day_folder)):\n",
        "        dfs_month.append(read_day_folder(day_folder))\n",
        "\n",
        "# Kết hợp các dataframe lại thành một dataframe duy nhất cho cả tháng\n",
        "result_df_month = pd.concat(dfs_month, ignore_index=True)\n",
        "\n",
        "# Sắp xếp lại theo cột 'name' theo giá trị tăng dần\n",
        "result_df_month = result_df_month.sort_values(by='name')\n",
        "\n",
        "# Đổi tên cột 'Value' thành 'aws'\n",
        "obs_df_month = result_df_month.rename(columns={'Value': 'AWS'})\n",
        "\n",
        "# Hiển thị dataframe kết quả\n",
        "print(obs_df_month)\n",
        "\n",
        "# Tạo file CSV từ dataframe result_df_month\n",
        "#result_df_month.to_csv('/content/result_df_month.csv', index=False)\n"
      ]
    },
    {
      "cell_type": "code",
      "source": [
        "value_counts = obs_df_month['AWS'].value_counts()\n",
        "\n",
        "print(\"Số lần xuất hiện nhiều nhất của 1 giá trị: \", value_counts.max())\n",
        "\n",
        "# Tìm giá trị có số lần xuất hiện nhiều nhất\n",
        "most_common_value = obs_df_month['AWS'].value_counts().idxmax()\n",
        "\n",
        "print(\"Giá trị có số lần xuất hiện nhiều nhất là:\", most_common_value)\n",
        "\n",
        "# Tìm giá trị lớn nhất trong cột 'Value'\n",
        "min_value = obs_df_month['AWS'].min()\n",
        "\n",
        "print(\"Giá trị nhỏ nhất là:\", min_value)\n",
        "\n",
        "# Tìm giá trị lớn nhất trong cột 'Value'\n",
        "max_value = obs_df_month['AWS'].max()\n",
        "\n",
        "print(\"Giá trị lớn nhất là:\", max_value)\n",
        "\n",
        "obs_df_month['AWS'].hist()"
      ],
      "metadata": {
        "colab": {
          "base_uri": "https://localhost:8080/",
          "height": 517
        },
        "id": "Ye9zomPno4Hc",
        "outputId": "174ff57d-9f27-43ca-d89d-3d70fe131a15"
      },
      "execution_count": null,
      "outputs": [
        {
          "output_type": "stream",
          "name": "stdout",
          "text": [
            "Số lần xuất hiện nhiều nhất của 1 giá trị:  8823\n",
            "Giá trị có số lần xuất hiện nhiều nhất là: 0.2\n",
            "Giá trị nhỏ nhất là: 0.033333335\n",
            "Giá trị lớn nhất là: 107.4\n"
          ]
        },
        {
          "output_type": "execute_result",
          "data": {
            "text/plain": [
              "<Axes: >"
            ]
          },
          "metadata": {},
          "execution_count": 11
        },
        {
          "output_type": "display_data",
          "data": {
            "text/plain": [
              "<Figure size 640x480 with 1 Axes>"
            ],
            "image/png": "[encoded data removed]"
          },
          "metadata": {}
        }
      ]
    },
    {
      "cell_type": "markdown",
      "metadata": {
        "id": "nk-P806dQnEO"
      },
      "source": [
        "### 1 year"
      ]
    },
    {
      "cell_type": "markdown",
      "source": [
        "####2019"
      ],
      "metadata": {
        "id": "A9jcda2999RE"
      }
    },
    {
      "cell_type": "markdown",
      "source": [
        "#####Value > 0"
      ],
      "metadata": {
        "id": "tEHKwWS3yVOl"
      }
    },
    {
      "cell_type": "code",
      "execution_count": null,
      "metadata": {
        "id": "9a37_4y_RB-x"
      },
      "outputs": [],
      "source": [
        "import os\n",
        "import numpy as np\n",
        "from osgeo import gdal\n",
        "import pandas as pd\n",
        "\n",
        "# Đường dẫn tới thư mục chứa các thư mục tháng\n",
        "months_folder_path = \"/content/data_folder/Data/precipitation/obs/2019\"\n",
        "\n",
        "# Hàm để đọc dữ liệu từ một thư mục tháng và tạo dataframe\n",
        "def read_month_folder(month_folder):\n",
        "    month_folder_path = os.path.join(months_folder_path, month_folder)\n",
        "    dfs = []\n",
        "    for day_folder in os.listdir(month_folder_path):\n",
        "        day_folder_path = os.path.join(month_folder_path, day_folder)\n",
        "        if os.path.isdir(day_folder_path):\n",
        "            for file in os.listdir(day_folder_path):\n",
        "                if file.endswith(\".tif\"):\n",
        "                    tif_file = os.path.join(day_folder_path, file)\n",
        "                    ds = gdal.Open(tif_file)\n",
        "                    myarray = np.array(ds.GetRasterBand(1).ReadAsArray())\n",
        "                    values = myarray[(myarray > 0)]\n",
        "                    row_indices, col_indices = np.where(myarray > 0)\n",
        "                    data = {'AWS': values,\n",
        "                            'Row Position': row_indices,\n",
        "                            'Column Position': col_indices}\n",
        "                    df = pd.DataFrame(data)\n",
        "                    df['name'] = os.path.splitext(file)[0].replace(\"AWS_\", \"\")\n",
        "                    dfs.append(df)\n",
        "    return pd.concat(dfs, ignore_index=True)"
      ]
    },
    {
      "cell_type": "code",
      "execution_count": null,
      "metadata": {
        "colab": {
          "base_uri": "https://localhost:8080/"
        },
        "id": "5tlh2j2PRzCF",
        "outputId": "b2385522-f03c-48a5-949a-97ee8eb95237"
      },
      "outputs": [
        {
          "output_type": "stream",
          "name": "stdout",
          "text": [
            "       AWS  Row Position  Column Position            name\n",
            "2409  19.0             7              115  20190401000000\n",
            "2414   0.8            23              122  20190401000000\n",
            "2413   0.2            21              109  20190401000000\n",
            "2412   0.1            20              135  20190401000000\n",
            "2411   0.8            16              109  20190401000000\n",
            "...    ...           ...              ...             ...\n",
            "8820   0.4            30              103  20191031230000\n",
            "8821   0.8            32              114  20191031230000\n",
            "8822   3.2            36              115  20191031230000\n",
            "8812   0.6            23              101  20191031230000\n",
            "8849   1.7            86              131  20191031230000\n",
            "\n",
            "[21632 rows x 4 columns]\n"
          ]
        }
      ],
      "source": [
        "# Tạo dataframe tổng hợp từ tất cả các thư mục tháng\n",
        "dfs_all_months = []\n",
        "for month_folder in os.listdir(months_folder_path):\n",
        "    if os.path.isdir(os.path.join(months_folder_path, month_folder)):\n",
        "        dfs_all_months.append(read_month_folder(month_folder))\n",
        "\n",
        "# Kết hợp các dataframe lại thành một dataframe duy nhất cho tất cả các tháng\n",
        "result_df_all_months = pd.concat(dfs_all_months, ignore_index=True)\n",
        "\n",
        "# Sắp xếp lại theo cột 'name' theo giá trị tăng dần\n",
        "obs_2019 = result_df_all_months.sort_values(by='name')\n",
        "\n",
        "# Hiển thị dataframe kết quả\n",
        "print(obs_2019)"
      ]
    },
    {
      "cell_type": "code",
      "source": [
        "value_counts = obs_2019['AWS'].value_counts()\n",
        "\n",
        "print(\"Số lần xuất hiện nhiều nhất của 1 giá trị: \", value_counts.max())\n",
        "\n",
        "# Tìm giá trị có số lần xuất hiện nhiều nhất\n",
        "most_common_value = obs_2019['AWS'].value_counts().idxmax()\n",
        "\n",
        "print(\"Giá trị có số lần xuất hiện nhiều nhất là:\", most_common_value)\n",
        "\n",
        "# Tìm giá trị lớn nhất trong cột 'Value'\n",
        "min_value = obs_2019['AWS'].min()\n",
        "\n",
        "print(\"Giá trị nhỏ nhất là:\", min_value)\n",
        "\n",
        "# Tìm giá trị lớn nhất trong cột 'Value'\n",
        "max_value = obs_2019['AWS'].max()\n",
        "\n",
        "print(\"Giá trị lớn nhất là:\", max_value)\n",
        "\n",
        "obs_2019['AWS'].hist()"
      ],
      "metadata": {
        "colab": {
          "base_uri": "https://localhost:8080/",
          "height": 517
        },
        "id": "WLkbuJ2-joLj",
        "outputId": "f6f0c39e-0deb-429c-a619-b9ed2a448251"
      },
      "execution_count": null,
      "outputs": [
        {
          "output_type": "stream",
          "name": "stdout",
          "text": [
            "Số lần xuất hiện nhiều nhất của 1 giá trị:  6314\n",
            "Giá trị có số lần xuất hiện nhiều nhất là: 0.2\n",
            "Giá trị nhỏ nhất là: 0.02\n",
            "Giá trị lớn nhất là: 121.6\n"
          ]
        },
        {
          "output_type": "execute_result",
          "data": {
            "text/plain": [
              "<Axes: >"
            ]
          },
          "metadata": {},
          "execution_count": 21
        },
        {
          "output_type": "display_data",
          "data": {
            "text/plain": [
              "<Figure size 640x480 with 1 Axes>"
            ],
            "image/png": "[encoded data removed]"
          },
          "metadata": {}
        }
      ]
    },
    {
      "cell_type": "code",
      "source": [
        "# Tạo file CSV từ dataframe result_df_all_months\n",
        "obs_2019.to_csv('/content/obs_2019.csv', index=False)"
      ],
      "metadata": {
        "id": "Mzze5q8OwfHI"
      },
      "execution_count": null,
      "outputs": []
    },
    {
      "cell_type": "markdown",
      "source": [
        "#####Get Row and Column of OBS 2019 > 0"
      ],
      "metadata": {
        "id": "YQ6ybt3jhkuq"
      }
    },
    {
      "cell_type": "code",
      "source": [
        "# Tạo dataframe mới chỉ với các cột 'Row Position', 'Column Position', và 'name'\n",
        "new_df = pd.DataFrame({\n",
        "    'Row Position': obs_2019['Row Position'],\n",
        "    'Column Position': obs_2019['Column Position'],\n",
        "})\n",
        "\n",
        "# Lọc ra dataframe mới với các giá trị (Row, Column) phân biệt\n",
        "df_unique = new_df.drop_duplicates(subset=['Row Position', 'Column Position'])\n",
        "\n",
        "# Hiển thị dataframe mới\n",
        "print(df_unique)\n"
      ],
      "metadata": {
        "colab": {
          "base_uri": "https://localhost:8080/"
        },
        "id": "fuShgJCZhpwG",
        "outputId": "8e16a41b-7659-4a1f-f33e-74f5545d2928"
      },
      "execution_count": null,
      "outputs": [
        {
          "output_type": "stream",
          "name": "stdout",
          "text": [
            "       Row Position  Column Position\n",
            "2409              7              115\n",
            "2414             23              122\n",
            "2413             21              109\n",
            "2412             20              135\n",
            "2411             16              109\n",
            "...             ...              ...\n",
            "16786            16              110\n",
            "15686            55              114\n",
            "11433             4               58\n",
            "11146            49              111\n",
            "20591            61              109\n",
            "\n",
            "[311 rows x 2 columns]\n"
          ]
        }
      ]
    },
    {
      "cell_type": "markdown",
      "source": [
        "#####Value = 0"
      ],
      "metadata": {
        "id": "issDd4qIyOBL"
      }
    },
    {
      "cell_type": "code",
      "source": [
        "import os\n",
        "import numpy as np\n",
        "from osgeo import gdal\n",
        "import pandas as pd\n",
        "\n",
        "# Đường dẫn tới thư mục chứa các thư mục tháng\n",
        "months_folder_path = \"/content/data_folder/Data/precipitation/obs/2019\"\n",
        "\n",
        "# Hàm để đọc dữ liệu từ một thư mục tháng và tạo dataframe\n",
        "def read_month_folder(month_folder, unique_df):\n",
        "    month_folder_path = os.path.join(months_folder_path, month_folder)\n",
        "    dfs = []\n",
        "    for day_folder in os.listdir(month_folder_path):\n",
        "        day_folder_path = os.path.join(month_folder_path, day_folder)\n",
        "        if os.path.isdir(day_folder_path):\n",
        "            for file in os.listdir(day_folder_path):\n",
        "                if file.endswith(\".tif\"):\n",
        "                    tif_file = os.path.join(day_folder_path, file)\n",
        "                    ds = gdal.Open(tif_file)\n",
        "                    myarray = np.array(ds.GetRasterBand(1).ReadAsArray())\n",
        "\n",
        "                    # Lọc ra các giá trị có giá trị < 0.01\n",
        "                    values = myarray[(myarray < 0.01)]\n",
        "                    values = 0\n",
        "                    row_indices, col_indices = np.where(myarray < 0.01)\n",
        "\n",
        "                    # Tạo dataframe từ các giá trị đã lọc\n",
        "                    data = {'AWS': values,\n",
        "                            'Row Position': row_indices,\n",
        "                            'Column Position': col_indices}\n",
        "                    df = pd.DataFrame(data)\n",
        "                    df['name'] = os.path.splitext(file)[0].replace(\"AWS_\", \"\")\n",
        "\n",
        "                    # Chỉ giữ lại các hàng và cột có trong df_unique\n",
        "                    df = df[df[['Row Position', 'Column Position']].apply(tuple, axis=1).isin(unique_df.apply(tuple, axis=1))]\n",
        "\n",
        "                    dfs.append(df)\n",
        "    return pd.concat(dfs, ignore_index=True)\n"
      ],
      "metadata": {
        "id": "YI5Kb261kgfT"
      },
      "execution_count": null,
      "outputs": []
    },
    {
      "cell_type": "code",
      "source": [
        "\n",
        "# Đọc dữ liệu từ các thư mục tháng\n",
        "dfs_all_months = []\n",
        "for month_folder in os.listdir(months_folder_path):\n",
        "    if os.path.isdir(os.path.join(months_folder_path, month_folder)):\n",
        "        dfs_all_months.append(read_month_folder(month_folder, df_unique))\n",
        "\n",
        "# Kết hợp các dataframe lại thành một dataframe duy nhất cho tất cả các tháng\n",
        "obs_0_2019 = pd.concat(dfs_all_months, ignore_index=True)\n",
        "\n",
        "# Hiển thị dataframe kết quả\n",
        "print(obs_0_2019)"
      ],
      "metadata": {
        "colab": {
          "base_uri": "https://localhost:8080/"
        },
        "id": "dJ-REwGXl1Rt",
        "outputId": "dc2cea9a-238c-4400-ee00-3dc27da900f6"
      },
      "execution_count": null,
      "outputs": [
        {
          "output_type": "stream",
          "name": "stdout",
          "text": [
            "        AWS  Row Position  Column Position            name\n",
            "0         0             0              114  20190406230000\n",
            "1         0             0              116  20190406230000\n",
            "2         0             0              118  20190406230000\n",
            "3         0             0              119  20190406230000\n",
            "4         0             0              120  20190406230000\n",
            "...     ...           ...              ...             ...\n",
            "397280    0            83              128  20191009100000\n",
            "397281    0            84              124  20191009100000\n",
            "397282    0            86              131  20191009100000\n",
            "397283    0            87              132  20191009100000\n",
            "397284    0            87              136  20191009100000\n",
            "\n",
            "[397285 rows x 4 columns]\n"
          ]
        }
      ]
    },
    {
      "cell_type": "code",
      "source": [
        "import pandas as pd\n",
        "\n",
        "# Lấy 18368 dòng ngẫu nhiên từ DataFrame ban đầu\n",
        "obs_2019_0_choose = obs_0_2019.sample(n=18368, random_state=42)\n",
        "\n",
        "# Sắp xếp lại DataFrame mới theo thứ tự\n",
        "obs_2019_0_choose = obs_2019_0_choose.sort_index()\n",
        "\n",
        "# Điều chỉnh lại chỉ số của DataFrame mới\n",
        "obs_2019_0_choose.reset_index(drop=True, inplace=True)"
      ],
      "metadata": {
        "id": "JktqVGfbzHgj"
      },
      "execution_count": null,
      "outputs": []
    },
    {
      "cell_type": "code",
      "source": [
        "print(obs_2019_0_choose)"
      ],
      "metadata": {
        "colab": {
          "base_uri": "https://localhost:8080/"
        },
        "id": "vx1ct_aqzYDP",
        "outputId": "2b1486bf-40fa-429b-894c-2130f06ecc77"
      },
      "execution_count": null,
      "outputs": [
        {
          "output_type": "stream",
          "name": "stdout",
          "text": [
            "       AWS  Row Position  Column Position            name\n",
            "0        0             2              117  20190406230000\n",
            "1        0             8              103  20190406230000\n",
            "2        0             8              111  20190406230000\n",
            "3        0            13              110  20190406230000\n",
            "4        0            16              109  20190406230000\n",
            "...    ...           ...              ...             ...\n",
            "18363    0            53              107  20191009100000\n",
            "18364    0            54              102  20191009100000\n",
            "18365    0            67              119  20191009100000\n",
            "18366    0            72              114  20191009100000\n",
            "18367    0            77              128  20191009100000\n",
            "\n",
            "[18368 rows x 4 columns]\n"
          ]
        }
      ]
    },
    {
      "cell_type": "code",
      "source": [
        "# Tạo file CSV từ dataframe result_df_all_months\n",
        "obs_2019_0_choose.to_csv('/content/obs_2019_0.csv', index=False)"
      ],
      "metadata": {
        "id": "KKBzz08pymRN"
      },
      "execution_count": null,
      "outputs": []
    },
    {
      "cell_type": "markdown",
      "source": [
        "#####Combine obs_2019_0 and obs_2019"
      ],
      "metadata": {
        "id": "0NcZE0JO0TJ8"
      }
    },
    {
      "cell_type": "code",
      "source": [
        "import pandas as pd\n",
        "\n",
        "# Nối hai DataFrame thành một DataFrame mới\n",
        "obs_combine_2019 = pd.concat([obs_2019, obs_2019_0_choose], ignore_index=True)\n",
        "\n",
        "obs_combine_2019 = obs_combine_2019.sort_values(by='name')\n",
        "\n",
        "# obs_combine_2019 = obs_combine_2019.rename(columns={'aws': 'AWS'})\n",
        "\n",
        "\n",
        "# Điều chỉnh lại chỉ số của DataFrame mới\n",
        "obs_combine_2019.reset_index(drop=True, inplace=True)"
      ],
      "metadata": {
        "id": "IRmlNKrW0c6V"
      },
      "execution_count": null,
      "outputs": []
    },
    {
      "cell_type": "code",
      "source": [
        "print(obs_combine_2019)"
      ],
      "metadata": {
        "colab": {
          "base_uri": "https://localhost:8080/"
        },
        "id": "MNxBEsv6066F",
        "outputId": "3b7a9304-6b1d-4eaa-eafd-3dcc2b362388"
      },
      "execution_count": null,
      "outputs": [
        {
          "output_type": "stream",
          "name": "stdout",
          "text": [
            "        AWS  Row Position  Column Position            name\n",
            "0      19.0             7              115  20190401000000\n",
            "1       0.0            70              114  20190401000000\n",
            "2       0.0            57              115  20190401000000\n",
            "3       0.0            51               96  20190401000000\n",
            "4       0.0            36              109  20190401000000\n",
            "...     ...           ...              ...             ...\n",
            "39995   1.0            12              119  20191031230000\n",
            "39996   0.4            12              116  20191031230000\n",
            "39997   0.2            11              124  20191031230000\n",
            "39998   1.8             3              115  20191031230000\n",
            "39999   0.6            23              101  20191031230000\n",
            "\n",
            "[40000 rows x 4 columns]\n"
          ]
        }
      ]
    },
    {
      "cell_type": "code",
      "source": [
        "value_counts = obs_combine_2019['AWS'].value_counts()\n",
        "\n",
        "print(\"Số lần xuất hiện nhiều nhất của 1 giá trị: \", value_counts.max())\n",
        "\n",
        "# Tìm giá trị có số lần xuất hiện nhiều nhất\n",
        "most_common_value = obs_combine_2019['AWS'].value_counts().idxmax()\n",
        "\n",
        "print(\"Giá trị có số lần xuất hiện nhiều nhất là:\", most_common_value)\n",
        "\n",
        "# Tìm giá trị lớn nhất trong cột 'Value'\n",
        "min_value = obs_combine_2019['AWS'].min()\n",
        "\n",
        "print(\"Giá trị nhỏ nhất là:\", min_value)\n",
        "\n",
        "# Tìm giá trị lớn nhất trong cột 'Value'\n",
        "max_value = obs_combine_2019['AWS'].max()\n",
        "\n",
        "print(\"Giá trị lớn nhất là:\", max_value)\n",
        "\n",
        "obs_combine_2019['AWS'].hist()"
      ],
      "metadata": {
        "colab": {
          "base_uri": "https://localhost:8080/",
          "height": 517
        },
        "id": "GkCSeUrUig9P",
        "outputId": "b7da7969-0f14-454d-f724-64bb16feeffa"
      },
      "execution_count": null,
      "outputs": [
        {
          "output_type": "stream",
          "name": "stdout",
          "text": [
            "Số lần xuất hiện nhiều nhất của 1 giá trị:  18368\n",
            "Giá trị có số lần xuất hiện nhiều nhất là: 0.0\n",
            "Giá trị nhỏ nhất là: 0.0\n",
            "Giá trị lớn nhất là: 121.5999984741211\n"
          ]
        },
        {
          "output_type": "execute_result",
          "data": {
            "text/plain": [
              "<Axes: >"
            ]
          },
          "metadata": {},
          "execution_count": 21
        },
        {
          "output_type": "display_data",
          "data": {
            "text/plain": [
              "<Figure size 640x480 with 1 Axes>"
            ],
            "image/png": "[encoded data removed]"
          },
          "metadata": {}
        }
      ]
    },
    {
      "cell_type": "code",
      "source": [
        "# Tạo file CSV từ dataframe result_df_all_months\n",
        "obs_combine_2019.to_csv('/content/obs_2019.csv', index=False)"
      ],
      "metadata": {
        "id": "tMbAx8NL1NDf"
      },
      "execution_count": null,
      "outputs": []
    },
    {
      "cell_type": "markdown",
      "source": [
        "####2020"
      ],
      "metadata": {
        "id": "tq83m-s8djCV"
      }
    },
    {
      "cell_type": "markdown",
      "source": [
        "#####Value > 0"
      ],
      "metadata": {
        "id": "witmO0iadyi9"
      }
    },
    {
      "cell_type": "code",
      "source": [
        "import os\n",
        "import numpy as np\n",
        "from osgeo import gdal\n",
        "import pandas as pd\n",
        "\n",
        "# Đường dẫn tới thư mục chứa các thư mục tháng\n",
        "months_folder_path = \"/content/data_folder/Data/precipitation/obs/2020\"\n",
        "\n",
        "# Hàm để đọc dữ liệu từ một thư mục tháng và tạo dataframe\n",
        "def read_month_folder(month_folder):\n",
        "    month_folder_path = os.path.join(months_folder_path, month_folder)\n",
        "    dfs = []\n",
        "    for day_folder in os.listdir(month_folder_path):\n",
        "        day_folder_path = os.path.join(month_folder_path, day_folder)\n",
        "        if os.path.isdir(day_folder_path):\n",
        "            for file in os.listdir(day_folder_path):\n",
        "                if file.endswith(\".tif\"):\n",
        "                    tif_file = os.path.join(day_folder_path, file)\n",
        "                    ds = gdal.Open(tif_file)\n",
        "                    myarray = np.array(ds.GetRasterBand(1).ReadAsArray())\n",
        "                    values = myarray[(myarray > 0)]\n",
        "                    row_indices, col_indices = np.where(myarray > 0)\n",
        "                    data = {'AWS': values,\n",
        "                            'Row Position': row_indices,\n",
        "                            'Column Position': col_indices}\n",
        "                    df = pd.DataFrame(data)\n",
        "                    df['name'] = os.path.splitext(file)[0].replace(\"AWS_\", \"\")\n",
        "                    dfs.append(df)\n",
        "    return pd.concat(dfs, ignore_index=True)"
      ],
      "metadata": {
        "id": "_i8bENdSdfEy"
      },
      "execution_count": null,
      "outputs": []
    },
    {
      "cell_type": "code",
      "source": [
        "# Tạo dataframe tổng hợp từ tất cả các thư mục tháng\n",
        "dfs_all_months = []\n",
        "for month_folder in os.listdir(months_folder_path):\n",
        "    if os.path.isdir(os.path.join(months_folder_path, month_folder)):\n",
        "        dfs_all_months.append(read_month_folder(month_folder))\n",
        "\n",
        "# Kết hợp các dataframe lại thành một dataframe duy nhất cho tất cả các tháng\n",
        "result_df_all_months = pd.concat(dfs_all_months, ignore_index=True)\n",
        "\n",
        "# Sắp xếp lại theo cột 'name' theo giá trị tăng dần\n",
        "obs_2020 = result_df_all_months.sort_values(by='name')\n",
        "\n",
        "# Hiển thị dataframe kết quả\n",
        "print(obs_2020)"
      ],
      "metadata": {
        "colab": {
          "base_uri": "https://localhost:8080/"
        },
        "id": "WFiGtgGidukK",
        "outputId": "7cb12590-f3d3-465f-eeaf-1c477c6932a3"
      },
      "execution_count": null,
      "outputs": [
        {
          "output_type": "stream",
          "name": "stdout",
          "text": [
            "        AWS  Row Position  Column Position            name\n",
            "5722   0.20            60              107  20200401000000\n",
            "5723   0.20            61              109  20200401000000\n",
            "5724   0.20            63              109  20200401000000\n",
            "5725   0.40            65              114  20200401000000\n",
            "5726   0.20            72              114  20200401000000\n",
            "...     ...           ...              ...             ...\n",
            "16455  0.80            84              137  20201031230000\n",
            "16456  2.20            86              131  20201031230000\n",
            "16457  0.70            87              132  20201031230000\n",
            "16440  0.05             8               88  20201031230000\n",
            "16443  0.20            58              105  20201031230000\n",
            "\n",
            "[64125 rows x 4 columns]\n"
          ]
        }
      ]
    },
    {
      "cell_type": "code",
      "source": [
        "value_counts = obs_2020['AWS'].value_counts()\n",
        "\n",
        "print(\"Số lần xuất hiện nhiều nhất của 1 giá trị: \", value_counts.max())\n",
        "\n",
        "# Tìm giá trị có số lần xuất hiện nhiều nhất\n",
        "most_common_value = obs_2020['AWS'].value_counts().idxmax()\n",
        "\n",
        "print(\"Giá trị có số lần xuất hiện nhiều nhất là:\", most_common_value)\n",
        "\n",
        "# Tìm giá trị lớn nhất trong cột 'Value'\n",
        "min_value = obs_2020['AWS'].min()\n",
        "\n",
        "print(\"Giá trị nhỏ nhất là:\", min_value)\n",
        "\n",
        "# Tìm giá trị lớn nhất trong cột 'Value'\n",
        "max_value = obs_2020['AWS'].max()\n",
        "\n",
        "print(\"Giá trị lớn nhất là:\", max_value)\n",
        "\n",
        "obs_2020['AWS'].hist()"
      ],
      "metadata": {
        "colab": {
          "base_uri": "https://localhost:8080/",
          "height": 517
        },
        "id": "GfGTvvnhj9s8",
        "outputId": "5e317598-e6e9-4cbf-b5d5-ad4fdba99331"
      },
      "execution_count": null,
      "outputs": [
        {
          "output_type": "stream",
          "name": "stdout",
          "text": [
            "Số lần xuất hiện nhiều nhất của 1 giá trị:  15065\n",
            "Giá trị có số lần xuất hiện nhiều nhất là: 0.2\n",
            "Giá trị nhỏ nhất là: 0.01\n",
            "Giá trị lớn nhất là: 107.4\n"
          ]
        },
        {
          "output_type": "execute_result",
          "data": {
            "text/plain": [
              "<Axes: >"
            ]
          },
          "metadata": {},
          "execution_count": 24
        },
        {
          "output_type": "display_data",
          "data": {
            "text/plain": [
              "<Figure size 640x480 with 1 Axes>"
            ],
            "image/png": "[encoded data removed]"
          },
          "metadata": {}
        }
      ]
    },
    {
      "cell_type": "code",
      "source": [
        "# Tạo file CSV từ dataframe result_df_all_years\n",
        "obs_2020.to_csv('/content/obs_2020larger0.csv', index=False)"
      ],
      "metadata": {
        "id": "el913uw0mcxx"
      },
      "execution_count": null,
      "outputs": []
    },
    {
      "cell_type": "markdown",
      "source": [
        "#####Get Row and Col of OBS > 0 in 2020"
      ],
      "metadata": {
        "id": "-yh6bFKwo3hl"
      }
    },
    {
      "cell_type": "code",
      "source": [
        "# Tạo dataframe mới chỉ với các cột 'Row Position', 'Column Position', và 'name'\n",
        "new_df = pd.DataFrame({\n",
        "    'Row Position': obs_2020['Row Position'],\n",
        "    'Column Position': obs_2020['Column Position'],\n",
        "})\n",
        "\n",
        "# Lọc ra dataframe mới với các giá trị (Row, Column) phân biệt\n",
        "df_unique = new_df.drop_duplicates(subset=['Row Position', 'Column Position'])\n",
        "\n",
        "# Hiển thị dataframe mới\n",
        "print(df_unique)\n"
      ],
      "metadata": {
        "colab": {
          "base_uri": "https://localhost:8080/"
        },
        "id": "MNA9RfrAo9pD",
        "outputId": "7069a6a3-acaf-4201-eeea-2e97f2b5b630"
      },
      "execution_count": null,
      "outputs": [
        {
          "output_type": "stream",
          "name": "stdout",
          "text": [
            "       Row Position  Column Position\n",
            "5722             60              107\n",
            "5723             61              109\n",
            "5724             63              109\n",
            "5725             65              114\n",
            "5726             72              114\n",
            "...             ...              ...\n",
            "43158            78              130\n",
            "42268            57              115\n",
            "53652            16              110\n",
            "33351            13              107\n",
            "46506             7              138\n",
            "\n",
            "[325 rows x 2 columns]\n"
          ]
        }
      ]
    },
    {
      "cell_type": "markdown",
      "source": [
        "#####value = 0"
      ],
      "metadata": {
        "id": "vS1lx0vp7twQ"
      }
    },
    {
      "cell_type": "code",
      "source": [
        "import os\n",
        "import numpy as np\n",
        "from osgeo import gdal\n",
        "import pandas as pd\n",
        "\n",
        "# Đường dẫn tới thư mục chứa các thư mục tháng\n",
        "months_folder_path = \"/content/data_folder/Data/precipitation/obs/2020\"\n",
        "\n",
        "# Hàm để đọc dữ liệu từ một thư mục tháng và tạo dataframe\n",
        "def read_month_folder(month_folder, unique_df):\n",
        "    month_folder_path = os.path.join(months_folder_path, month_folder)\n",
        "    dfs = []\n",
        "    for day_folder in os.listdir(month_folder_path):\n",
        "        day_folder_path = os.path.join(month_folder_path, day_folder)\n",
        "        if os.path.isdir(day_folder_path):\n",
        "            for file in os.listdir(day_folder_path):\n",
        "                if file.endswith(\".tif\"):\n",
        "                    tif_file = os.path.join(day_folder_path, file)\n",
        "                    ds = gdal.Open(tif_file)\n",
        "                    myarray = np.array(ds.GetRasterBand(1).ReadAsArray())\n",
        "\n",
        "                    # Lọc ra các giá trị có giá trị < 0.01\n",
        "                    values = myarray[(myarray < 0.01)]\n",
        "                    values = 0\n",
        "                    row_indices, col_indices = np.where(myarray < 0.01)\n",
        "\n",
        "                    # Tạo dataframe từ các giá trị đã lọc\n",
        "                    data = {'AWS': values,\n",
        "                            'Row Position': row_indices,\n",
        "                            'Column Position': col_indices}\n",
        "                    df = pd.DataFrame(data)\n",
        "                    df['name'] = os.path.splitext(file)[0].replace(\"AWS_\", \"\")\n",
        "\n",
        "                    # Chỉ giữ lại các hàng và cột có trong df_unique\n",
        "                    df = df[df[['Row Position', 'Column Position']].apply(tuple, axis=1).isin(unique_df.apply(tuple, axis=1))]\n",
        "\n",
        "                    dfs.append(df)\n",
        "    return pd.concat(dfs, ignore_index=True)\n"
      ],
      "metadata": {
        "id": "aHWb7EPA7v44"
      },
      "execution_count": null,
      "outputs": []
    },
    {
      "cell_type": "code",
      "source": [
        "\n",
        "# Đọc dữ liệu từ các thư mục tháng\n",
        "dfs_all_months = []\n",
        "for month_folder in os.listdir(months_folder_path):\n",
        "    if os.path.isdir(os.path.join(months_folder_path, month_folder)):\n",
        "        dfs_all_months.append(read_month_folder(month_folder, df_unique))\n",
        "\n",
        "# Kết hợp các dataframe lại thành một dataframe duy nhất cho tất cả các tháng\n",
        "obs_2020_0 = pd.concat(dfs_all_months, ignore_index=True)\n",
        "\n",
        "# Hiển thị dataframe kết quả\n",
        "print(obs_2020_0)"
      ],
      "metadata": {
        "colab": {
          "base_uri": "https://localhost:8080/"
        },
        "id": "vRpCGcU19PZ-",
        "outputId": "d2bb0f51-0ac5-41e5-e1f7-9f2ec3ac500c"
      },
      "execution_count": null,
      "outputs": [
        {
          "output_type": "stream",
          "name": "stdout",
          "text": [
            "        AWS  Row Position  Column Position            name\n",
            "0         0             0              104  20200406090000\n",
            "1         0             0              106  20200406090000\n",
            "2         0             0              114  20200406090000\n",
            "3         0             0              116  20200406090000\n",
            "4         0             0              118  20200406090000\n",
            "...     ...           ...              ...             ...\n",
            "410370    0            76              130  20201009000000\n",
            "410371    0            76              134  20201009000000\n",
            "410372    0            77              131  20201009000000\n",
            "410373    0            78              130  20201009000000\n",
            "410374    0            83              135  20201009000000\n",
            "\n",
            "[410375 rows x 4 columns]\n"
          ]
        }
      ]
    },
    {
      "cell_type": "code",
      "source": [
        "import pandas as pd\n",
        "\n",
        "# Lấy 35875 dòng ngẫu nhiên từ DataFrame ban đầu\n",
        "obs_2020_0_choose = obs_2020_0.sample(n=35875, random_state=42)\n",
        "\n",
        "# Sắp xếp lại DataFrame mới theo thứ tự\n",
        "obs_2020_0_choose = obs_2020_0_choose.sort_index()\n",
        "\n",
        "# Điều chỉnh lại chỉ số của DataFrame mới\n",
        "obs_2020_0_choose.reset_index(drop=True, inplace=True)"
      ],
      "metadata": {
        "id": "ARoJf0ML9WVs"
      },
      "execution_count": null,
      "outputs": []
    },
    {
      "cell_type": "code",
      "source": [
        "print(obs_2020_0_choose)"
      ],
      "metadata": {
        "colab": {
          "base_uri": "https://localhost:8080/"
        },
        "id": "yawhxbXz9xG1",
        "outputId": "50da2205-7f1a-4982-fb76-cf512977d2a9"
      },
      "execution_count": null,
      "outputs": [
        {
          "output_type": "stream",
          "name": "stdout",
          "text": [
            "       AWS  Row Position  Column Position            name\n",
            "0        0             0              237  20200423070000\n",
            "1        0             1               43  20200423070000\n",
            "2        0             1              138  20200423070000\n",
            "3        0             3              194  20200423070000\n",
            "4        0            12               83  20200423070000\n",
            "...    ...           ...              ...             ...\n",
            "35870    0            74               26  20201010220000\n",
            "35871    0            77               18  20201010220000\n",
            "35872    0            78              147  20201010220000\n",
            "35873    0            84              241  20201010220000\n",
            "35874    0            88              242  20201010220000\n",
            "\n",
            "[35875 rows x 4 columns]\n"
          ]
        }
      ]
    },
    {
      "cell_type": "markdown",
      "source": [
        "#####combine 2020 and 2020_0"
      ],
      "metadata": {
        "id": "TKENa0OT-AGd"
      }
    },
    {
      "cell_type": "code",
      "source": [
        "import pandas as pd\n",
        "\n",
        "# Nối hai DataFrame thành một DataFrame mới\n",
        "obs_combine_2020 = pd.concat([obs_2020, obs_2020_0_choose], ignore_index=True)\n",
        "\n",
        "obs_combine_2020 = obs_combine_2020.sort_values(by='name')\n",
        "\n",
        "# Điều chỉnh lại chỉ số của DataFrame mới\n",
        "obs_combine_2020.reset_index(drop=True, inplace=True)\n",
        "\n",
        "print(obs_combine_2020)"
      ],
      "metadata": {
        "colab": {
          "base_uri": "https://localhost:8080/"
        },
        "id": "ZBAg69BY-DrZ",
        "outputId": "83ada385-edbf-4ee3-8afd-d4bc999f0ae4"
      },
      "execution_count": null,
      "outputs": [
        {
          "output_type": "stream",
          "name": "stdout",
          "text": [
            "       AWS  Row Position  Column Position            name\n",
            "0      0.2            60              107  20200401000000\n",
            "1      0.0            60              112  20200401000000\n",
            "2      0.0            51              101  20200401000000\n",
            "3      0.0            51               93  20200401000000\n",
            "4      0.0            50              108  20200401000000\n",
            "...    ...           ...              ...             ...\n",
            "99995  0.0             6               86  20201031230000\n",
            "99996  0.0             8              111  20201031230000\n",
            "99997  0.0             9              108  20201031230000\n",
            "99998  0.0            32              105  20201031230000\n",
            "99999  0.0            12              119  20201031230000\n",
            "\n",
            "[100000 rows x 4 columns]\n"
          ]
        }
      ]
    },
    {
      "cell_type": "markdown",
      "metadata": {
        "id": "ElN7SEyWbJly"
      },
      "source": [
        "###2 year"
      ]
    },
    {
      "cell_type": "code",
      "execution_count": null,
      "metadata": {
        "colab": {
          "base_uri": "https://localhost:8080/"
        },
        "id": "Wggp6kDVbLuL",
        "outputId": "b6b4124c-2551-4b3c-a256-77ce316e7245"
      },
      "outputs": [
        {
          "output_type": "stream",
          "name": "stdout",
          "text": [
            "        AWS  Row Position  Column Position            name\n",
            "3687    0.2            38               96  20190401000000\n",
            "3676    0.2             3              115  20190401000000\n",
            "3677    0.8             5              114  20190401000000\n",
            "3678    0.6             6              116  20190401000000\n",
            "3679   19.0             7              115  20190401000000\n",
            "...     ...           ...              ...             ...\n",
            "44978   0.7            87              132  20201031230000\n",
            "44979   3.0            87              136  20201031230000\n",
            "44971   0.2            82              119  20201031230000\n",
            "44967   0.1            66              107  20201031230000\n",
            "44972   0.4            82              127  20201031230000\n",
            "\n",
            "[85757 rows x 4 columns]\n"
          ]
        }
      ],
      "source": [
        "import os\n",
        "import numpy as np\n",
        "from osgeo import gdal\n",
        "import pandas as pd\n",
        "\n",
        "# Đường dẫn tới thư mục chứa các thư mục năm\n",
        "years_folder_path = \"/content/data_folder/Data/precipitation/obs/\"\n",
        "\n",
        "# Hàm để đọc dữ liệu từ một thư mục năm và tạo dataframe\n",
        "def read_year_folder(year_folder):\n",
        "    year_folder_path = os.path.join(years_folder_path, year_folder)\n",
        "    dfs = []\n",
        "    for month_folder in os.listdir(year_folder_path):\n",
        "        month_folder_path = os.path.join(year_folder_path, month_folder)\n",
        "        if os.path.isdir(month_folder_path):\n",
        "            for day_folder in os.listdir(month_folder_path):\n",
        "                day_folder_path = os.path.join(month_folder_path, day_folder)\n",
        "                if os.path.isdir(day_folder_path):\n",
        "                    for file in os.listdir(day_folder_path):\n",
        "                        if file.endswith(\".tif\"):\n",
        "                            tif_file = os.path.join(day_folder_path, file)\n",
        "                            ds = gdal.Open(tif_file)\n",
        "                            myarray = np.array(ds.GetRasterBand(1).ReadAsArray())\n",
        "                            values = myarray[(myarray > 0)]\n",
        "                            row_indices, col_indices = np.where(myarray > 0)\n",
        "                            data = {'AWS': values,\n",
        "                                    'Row Position': row_indices,\n",
        "                                    'Column Position': col_indices}\n",
        "                            df = pd.DataFrame(data)\n",
        "                            df['name'] = os.path.splitext(file)[0].replace(\"AWS_\", \"\")\n",
        "                            dfs.append(df)\n",
        "    return pd.concat(dfs, ignore_index=True)\n",
        "\n",
        "# Tạo dataframe tổng hợp từ tất cả các thư mục năm\n",
        "dfs_all_years = []\n",
        "for year_folder in os.listdir(years_folder_path):\n",
        "    if os.path.isdir(os.path.join(years_folder_path, year_folder)):\n",
        "        dfs_all_years.append(read_year_folder(year_folder))\n",
        "\n",
        "# Kết hợp các dataframe lại thành một dataframe duy nhất cho tất cả các năm\n",
        "obs_all_years = pd.concat(dfs_all_years, ignore_index=True)\n",
        "\n",
        "# Sắp xếp lại theo cột 'name' theo giá trị tăng dần\n",
        "obs_all_years = obs_all_years.sort_values(by='name')\n",
        "\n",
        "# Hiển thị dataframe kết quả\n",
        "print(obs_all_years)\n"
      ]
    },
    {
      "cell_type": "code",
      "source": [
        "value_counts = obs_all_years['AWS'].value_counts()\n",
        "\n",
        "print(\"Số lần xuất hiện nhiều nhất của 1 giá trị: \", value_counts.max())\n",
        "\n",
        "# Tìm giá trị có số lần xuất hiện nhiều nhất\n",
        "most_common_value = obs_all_years['AWS'].value_counts().idxmax()\n",
        "\n",
        "print(\"Giá trị có số lần xuất hiện nhiều nhất là:\", most_common_value)\n",
        "\n",
        "# Tìm giá trị lớn nhất trong cột 'Value'\n",
        "max_value = obs_all_years['AWS'].max()\n",
        "\n",
        "print(\"Giá trị lớn nhất là:\", max_value)\n",
        "\n",
        "obs_all_years['AWS'].hist()"
      ],
      "metadata": {
        "colab": {
          "base_uri": "https://localhost:8080/"
        },
        "id": "OPGaZaSDdbZc",
        "outputId": "45b2e87e-98cb-4e46-dd37-899dfedc72e6"
      },
      "execution_count": null,
      "outputs": [
        {
          "output_type": "stream",
          "name": "stdout",
          "text": [
            "Số lần xuất hiện nhiều nhất của 1 giá trị:  21379\n",
            "Giá trị có số lần xuất hiện nhiều nhất là: 0.2\n",
            "Giá trị lớn nhất là: 121.6\n"
          ]
        },
        {
          "output_type": "execute_result",
          "data": {
            "text/plain": [
              "<Axes: >"
            ]
          },
          "metadata": {},
          "execution_count": 18
        },
        {
          "output_type": "display_data",
          "data": {
            "text/plain": [
              "<Figure size 640x480 with 1 Axes>"
            ],
            "image/png": "[encoded data removed]"
          },
          "metadata": {}
        }
      ]
    },
    {
      "cell_type": "code",
      "source": [
        "obs_all_years['AWS'].hist()"
      ],
      "metadata": {
        "colab": {
          "base_uri": "https://localhost:8080/",
          "height": 447
        },
        "id": "pXacznZNeUyG",
        "outputId": "f26ac2d2-2519-4be2-b5f0-23d3e17d93e6"
      },
      "execution_count": null,
      "outputs": [
        {
          "output_type": "execute_result",
          "data": {
            "text/plain": [
              "<Axes: >"
            ]
          },
          "metadata": {},
          "execution_count": 40
        },
        {
          "output_type": "display_data",
          "data": {
            "text/plain": [
              "<Figure size 640x480 with 1 Axes>"
            ],
            "image/png": "[encoded data removed]"
          },
          "metadata": {}
        }
      ]
    },
    {
      "cell_type": "code",
      "execution_count": null,
      "metadata": {
        "id": "a2vn4dTx1Pm2"
      },
      "outputs": [],
      "source": [
        "# Tạo file CSV từ dataframe result_df_all_years\n",
        "# obs_all_years.to_csv('/content/obs.csv', index=False)"
      ]
    },
    {
      "cell_type": "markdown",
      "metadata": {
        "id": "0QkQSUpG1Ozg"
      },
      "source": []
    },
    {
      "cell_type": "markdown",
      "metadata": {
        "id": "zBWqQvXAaQFd"
      },
      "source": [
        "##Imerg"
      ]
    },
    {
      "cell_type": "markdown",
      "source": [
        "###1 month"
      ],
      "metadata": {
        "id": "sif91qj4Zy7L"
      }
    },
    {
      "cell_type": "code",
      "source": [
        "import os\n",
        "import numpy as np\n",
        "from osgeo import gdal\n",
        "import pandas as pd\n",
        "\n",
        "# Hàm để đọc dữ liệu từ một thư mục ngày và tạo dataframe\n",
        "def read_day_folder(day_folder):\n",
        "    day_folder_path = os.path.join(month_folder_path, day_folder)\n",
        "    dfs = []\n",
        "    for file in os.listdir(day_folder_path):\n",
        "        if file.endswith(\".tif\"):\n",
        "            tif_file = os.path.join(day_folder_path, file)\n",
        "            ds = gdal.Open(tif_file)\n",
        "            myarray = np.array(ds.GetRasterBand(1).ReadAsArray())\n",
        "            values = myarray[(myarray > 0)]\n",
        "            row_indices, col_indices = np.where(myarray > 0)\n",
        "            data = {'Value': values,\n",
        "                    'Row Position': row_indices,\n",
        "                    'Column Position': col_indices}\n",
        "            df = pd.DataFrame(data)\n",
        "            df['name'] = os.path.splitext(file)[0].replace(\"IMERG_E_\", \"\")\n",
        "            dfs.append(df)\n",
        "    return pd.concat(dfs, ignore_index=True)"
      ],
      "metadata": {
        "id": "dRDar27yZytE"
      },
      "execution_count": null,
      "outputs": []
    },
    {
      "cell_type": "code",
      "source": [
        "# Tạo dataframe tổng hợp từ tất cả các thư mục ngày trong thư mục của tháng\n",
        "dfs_month = []\n",
        "# Đường dẫn tới thư mục chứa các thư mục ngày\n",
        "month_folder_path = \"/content/data_folder/Data/precipitation/imerg/2020/10\"\n",
        "for day_folder in os.listdir(month_folder_path):\n",
        "    if os.path.isdir(os.path.join(month_folder_path, day_folder)):\n",
        "        dfs_month.append(read_day_folder(day_folder))\n",
        "\n",
        "# Kết hợp các dataframe lại thành một dataframe duy nhất cho cả tháng\n",
        "result_df_month = pd.concat(dfs_month, ignore_index=True)\n",
        "\n",
        "# Sắp xếp lại theo cột 'name' theo giá trị tăng dần\n",
        "result_df_month = result_df_month.sort_values(by='name')\n",
        "\n",
        "# Đổi tên cột 'Value' thành 'aws'\n",
        "imerg_df_month = result_df_month.rename(columns={'Value': 'Imerg'})\n",
        "\n",
        "# Hiển thị dataframe kết quả\n",
        "print(imerg_df_month)\n",
        "\n",
        "# Tạo file CSV từ dataframe result_df_month\n",
        "#result_df_month.to_csv('/content/result_df_month.csv', index=False)\n"
      ],
      "metadata": {
        "colab": {
          "base_uri": "https://localhost:8080/"
        },
        "id": "fYykvpZwaAIg",
        "outputId": "b0008d79-41e5-4b0f-e819-be469fa8c2d8"
      },
      "execution_count": null,
      "outputs": [
        {
          "output_type": "stream",
          "name": "stdout",
          "text": [
            "         Imerg  Row Position  Column Position            name\n",
            "4005542   0.82             6              173  20201001000000\n",
            "4005384   0.01             4              213  20201001000000\n",
            "4005385   0.01             4              214  20201001000000\n",
            "4005386   1.32             4              222  20201001000000\n",
            "4005387   1.32             4              223  20201001000000\n",
            "...        ...           ...              ...             ...\n",
            "1795109   0.02             8              218  20201031230000\n",
            "1795110   0.02             8              219  20201031230000\n",
            "1795111   0.02             8              220  20201031230000\n",
            "1795102   0.02             7              220  20201031230000\n",
            "1795231   0.02            70              170  20201031230000\n",
            "\n",
            "[5993177 rows x 4 columns]\n"
          ]
        }
      ]
    },
    {
      "cell_type": "code",
      "source": [
        "value_counts = imerg_df_month['Imerg'].value_counts()\n",
        "\n",
        "print(\"Số lần xuất hiện nhiều nhất của 1 giá trị: \", value_counts.max())\n",
        "\n",
        "# Tìm giá trị có số lần xuất hiện nhiều nhất\n",
        "most_common_value = imerg_df_month['Imerg'].value_counts().idxmax()\n",
        "\n",
        "print(\"Giá trị có số lần xuất hiện nhiều nhất là:\", most_common_value)\n",
        "\n",
        "# Tìm giá trị lớn nhất trong cột 'Value'\n",
        "max_value = imerg_df_month['Imerg'].max()\n",
        "\n",
        "print(\"Giá trị lớn nhất là:\", max_value)\n",
        "\n",
        "imerg_df_month['Imerg'].hist()"
      ],
      "metadata": {
        "colab": {
          "base_uri": "https://localhost:8080/"
        },
        "id": "TpAdwtwrqVGV",
        "outputId": "cc9348d8-7d4f-4cbc-def5-81cecc580f2d"
      },
      "execution_count": null,
      "outputs": [
        {
          "output_type": "stream",
          "name": "stdout",
          "text": [
            "Số lần xuất hiện nhiều nhất của 1 giá trị:  51330\n",
            "Giá trị có số lần xuất hiện nhiều nhất là: 0.02\n",
            "Giá trị lớn nhất là: 169.62\n"
          ]
        },
        {
          "output_type": "execute_result",
          "data": {
            "text/plain": [
              "<Axes: >"
            ]
          },
          "metadata": {},
          "execution_count": 28
        },
        {
          "output_type": "display_data",
          "data": {
            "text/plain": [
              "<Figure size 640x480 with 1 Axes>"
            ],
            "image/png": "[encoded data removed]"
          },
          "metadata": {}
        }
      ]
    },
    {
      "cell_type": "markdown",
      "source": [
        "###2 years"
      ],
      "metadata": {
        "id": "qKBXuMm_Zvv1"
      }
    },
    {
      "cell_type": "code",
      "execution_count": null,
      "metadata": {
        "colab": {
          "base_uri": "https://localhost:8080/"
        },
        "id": "WvdtNr8BZ8hP",
        "outputId": "ff82ea6c-9ffb-4d4a-e2e6-4c6c9ab09dac"
      },
      "outputs": [
        {
          "output_type": "stream",
          "name": "stdout",
          "text": [
            "             Imerg  Row Position  Column Position            name\n",
            "841943   13.960344            13              235  20190401000000\n",
            "843042    0.030000            50               65  20190401000000\n",
            "843043    0.030000            50               66  20190401000000\n",
            "843044    0.030000            50               67  20190401000000\n",
            "843045    0.030000            50               68  20190401000000\n",
            "...            ...           ...              ...             ...\n",
            "8085701   0.040000            20              137  20201031230000\n",
            "8085700   0.060000            20              136  20201031230000\n",
            "8085699   0.060000            20              135  20201031230000\n",
            "8085708   0.040000            21              137  20201031230000\n",
            "8085579   0.160000             0                6  20201031230000\n",
            "\n",
            "[12283708 rows x 4 columns]\n"
          ]
        }
      ],
      "source": [
        "import os\n",
        "import numpy as np\n",
        "from osgeo import gdal\n",
        "import pandas as pd\n",
        "\n",
        "# Đường dẫn tới thư mục chứa các thư mục năm\n",
        "years_folder_path = \"/content/data_folder/Data/precipitation/imerg\"\n",
        "\n",
        "# Hàm để đọc dữ liệu từ một thư mục năm và tạo dataframe\n",
        "def read_year_folder(year_folder):\n",
        "    year_folder_path = os.path.join(years_folder_path, year_folder)\n",
        "    dfs = []\n",
        "    for month_folder in os.listdir(year_folder_path):\n",
        "        month_folder_path = os.path.join(year_folder_path, month_folder)\n",
        "        if os.path.isdir(month_folder_path):\n",
        "            for day_folder in os.listdir(month_folder_path):\n",
        "                day_folder_path = os.path.join(month_folder_path, day_folder)\n",
        "                if os.path.isdir(day_folder_path):\n",
        "                    for file in os.listdir(day_folder_path):\n",
        "                        if file.endswith(\".tif\"):\n",
        "                            tif_file = os.path.join(day_folder_path, file)\n",
        "                            ds = gdal.Open(tif_file)\n",
        "                            myarray = np.array(ds.GetRasterBand(1).ReadAsArray())\n",
        "                            values = myarray[(myarray > 0)]\n",
        "                            row_indices, col_indices = np.where(myarray > 0)\n",
        "                            data = {'Imerg': values,\n",
        "                                    'Row Position': row_indices,\n",
        "                                    'Column Position': col_indices}\n",
        "                            df = pd.DataFrame(data)\n",
        "                            df['name'] = os.path.splitext(file)[0].replace(\"IMERG_E_\", \"\")\n",
        "                            dfs.append(df)\n",
        "    return pd.concat(dfs, ignore_index=True)\n",
        "\n",
        "# Tạo dataframe tổng hợp từ tất cả các thư mục năm\n",
        "dfs_all_years = []\n",
        "for year_folder in os.listdir(years_folder_path):\n",
        "    if os.path.isdir(os.path.join(years_folder_path, year_folder)):\n",
        "        dfs_all_years.append(read_year_folder(year_folder))\n",
        "\n",
        "# Kết hợp các dataframe lại thành một dataframe duy nhất cho tất cả các năm\n",
        "imerg_all_years = pd.concat(dfs_all_years, ignore_index=True)\n",
        "\n",
        "# Sắp xếp lại theo cột 'name' theo giá trị tăng dần\n",
        "imerg_all_years = imerg_all_years.sort_values(by='name')\n",
        "\n",
        "# Hiển thị dataframe kết quả\n",
        "print(imerg_all_years)\n"
      ]
    },
    {
      "cell_type": "code",
      "source": [
        "value_counts = imerg_all_years['Imerg'].value_counts()\n",
        "print( \"Số lần xuất hiện nhiều nhất của 1 giá trị: \", value_counts.max())\n",
        "\n",
        "# Tìm giá trị có số lần xuất hiện nhiều nhất\n",
        "most_common_value = imerg_all_years['Imerg'].value_counts().idxmax()\n",
        "\n",
        "print(\"Giá trị có số lần xuất hiện nhiều nhất là:\", most_common_value)\n",
        "\n",
        "# Tìm giá trị nhỏ nhất trong cột 'Value'\n",
        "min_value = imerg_all_years['Imerg'].min()\n",
        "\n",
        "print(\"Giá trị nhỏ nhất là:\", min_value)\n",
        "\n",
        "# Tìm giá trị lớn nhất trong cột 'Value'\n",
        "max_value = imerg_all_years['Imerg'].max()\n",
        "\n",
        "print(\"Giá trị lớn nhất là:\", max_value)\n",
        "\n",
        "imerg_all_years['Imerg'].hist()\n"
      ],
      "metadata": {
        "colab": {
          "base_uri": "https://localhost:8080/"
        },
        "id": "qdEMyqSygNgj",
        "outputId": "45b30994-7499-431a-88da-27c3c0bc6ace"
      },
      "execution_count": null,
      "outputs": [
        {
          "output_type": "stream",
          "name": "stdout",
          "text": [
            "Số lần xuất hiện nhiều nhất của 1 giá trị:  130736\n",
            "Giá trị có số lần xuất hiện nhiều nhất là: 0.02\n",
            "Giá trị nhỏ nhất là: 4.2237613e-16\n",
            "Giá trị lớn nhất là: 182.94\n"
          ]
        },
        {
          "output_type": "execute_result",
          "data": {
            "text/plain": [
              "<Axes: >"
            ]
          },
          "metadata": {},
          "execution_count": 31
        },
        {
          "output_type": "display_data",
          "data": {
            "text/plain": [
              "<Figure size 640x480 with 1 Axes>"
            ],
            "image/png": "[encoded data removed]"
          },
          "metadata": {}
        }
      ]
    },
    {
      "cell_type": "code",
      "source": [
        "imerg_all_years['Imerg'].hist()"
      ],
      "metadata": {
        "colab": {
          "base_uri": "https://localhost:8080/",
          "height": 462
        },
        "id": "QLdvj-l3gPWX",
        "outputId": "a40cdf9b-4a3f-45e9-b4df-e05a30fcd175"
      },
      "execution_count": null,
      "outputs": [
        {
          "output_type": "execute_result",
          "data": {
            "text/plain": [
              "<Axes: >"
            ]
          },
          "metadata": {},
          "execution_count": 45
        },
        {
          "output_type": "display_data",
          "data": {
            "text/plain": [
              "<Figure size 640x480 with 1 Axes>"
            ],
            "image/png": "[encoded data removed]"
          },
          "metadata": {}
        }
      ]
    },
    {
      "cell_type": "code",
      "execution_count": null,
      "metadata": {
        "id": "kDH2-sKYpYI6"
      },
      "outputs": [],
      "source": [
        "# Tạo file CSV từ dataframe result_df_all_years\n",
        "# imerg_all_years.to_csv('/content/imerg_df_all_years.csv', index=False)"
      ]
    },
    {
      "cell_type": "markdown",
      "metadata": {
        "id": "rVFsF1jpncuW"
      },
      "source": [
        "##Era5"
      ]
    },
    {
      "cell_type": "markdown",
      "metadata": {
        "id": "ycO5I4vEoDNc"
      },
      "source": [
        "###R500"
      ]
    },
    {
      "cell_type": "code",
      "execution_count": null,
      "metadata": {
        "colab": {
          "base_uri": "https://localhost:8080/"
        },
        "id": "_EVFnX08ng1D",
        "outputId": "b6cd6bbd-a321-4477-b44d-a88f60c20990"
      },
      "outputs": [
        {
          "name": "stdout",
          "output_type": "stream",
          "text": [
            "               R500  Row Position  Column Position            name\n",
            "65328325   1.119702            44              228  20190401000000\n",
            "65332102   3.385327            60                5  20190401000000\n",
            "65332101   3.385327            60                4  20190401000000\n",
            "65332100   3.385327            60                3  20190401000000\n",
            "65332099   3.256421            60                2  20190401000000\n",
            "...             ...           ...              ...             ...\n",
            "195004    46.381592            60                4  20201031230000\n",
            "195005    46.381592            60                5  20201031230000\n",
            "195006    46.381592            60                6  20201031230000\n",
            "194998    54.018311            59              248  20201031230000\n",
            "180001    59.893311             0                1  20201031230000\n",
            "\n",
            "[65879597 rows x 4 columns]\n"
          ]
        }
      ],
      "source": [
        "import os\n",
        "import numpy as np\n",
        "from osgeo import gdal\n",
        "import pandas as pd\n",
        "\n",
        "# Đường dẫn tới thư mục chứa các thư mục năm\n",
        "years_folder_path = \"/content/data_folder/Data/era5/R500\"\n",
        "\n",
        "# Hàm để đọc dữ liệu từ một thư mục năm và tạo dataframe\n",
        "def read_year_folder(year_folder):\n",
        "    year_folder_path = os.path.join(years_folder_path, year_folder)\n",
        "    dfs = []\n",
        "    for month_folder in os.listdir(year_folder_path):\n",
        "        month_folder_path = os.path.join(year_folder_path, month_folder)\n",
        "        if os.path.isdir(month_folder_path):\n",
        "            for day_folder in os.listdir(month_folder_path):\n",
        "                day_folder_path = os.path.join(month_folder_path, day_folder)\n",
        "                if os.path.isdir(day_folder_path):\n",
        "                    for file in os.listdir(day_folder_path):\n",
        "                        if file.endswith(\".tif\"):\n",
        "                            tif_file = os.path.join(day_folder_path, file)\n",
        "                            ds = gdal.Open(tif_file)\n",
        "                            myarray = np.array(ds.GetRasterBand(1).ReadAsArray())\n",
        "                            values = myarray[(myarray > 0)]\n",
        "                            row_indices, col_indices = np.where(myarray > 0)\n",
        "                            data = {'R500': values,\n",
        "                                    'Row Position': row_indices,\n",
        "                                    'Column Position': col_indices}\n",
        "                            df = pd.DataFrame(data)\n",
        "                            df['name'] = os.path.splitext(file)[0].replace(\"R500_\", \"\")\n",
        "                            dfs.append(df)\n",
        "    return pd.concat(dfs, ignore_index=True)\n",
        "\n",
        "# Tạo dataframe tổng hợp từ tất cả các thư mục năm\n",
        "dfs_all_years = []\n",
        "for year_folder in os.listdir(years_folder_path):\n",
        "    if os.path.isdir(os.path.join(years_folder_path, year_folder)):\n",
        "        dfs_all_years.append(read_year_folder(year_folder))\n",
        "\n",
        "# Kết hợp các dataframe lại thành một dataframe duy nhất cho tất cả các năm\n",
        "r500_all_years = pd.concat(dfs_all_years, ignore_index=True)\n",
        "\n",
        "# Sắp xếp lại theo cột 'name' theo giá trị tăng dần\n",
        "r500_all_years = r500_all_years.sort_values(by='name')\n",
        "\n",
        "# Hiển thị dataframe kết quả\n",
        "print(r500_all_years)\n",
        "\n"
      ]
    },
    {
      "cell_type": "code",
      "execution_count": null,
      "metadata": {
        "id": "ySBWNLzWpO5i"
      },
      "outputs": [],
      "source": [
        "# Tạo file CSV từ dataframe result_df_all_years\n",
        "r500_all_years.to_csv('/content/r500_all_years.csv', index=False)"
      ]
    },
    {
      "cell_type": "markdown",
      "metadata": {
        "id": "ZrJToZgqoFZt"
      },
      "source": [
        "###R850"
      ]
    },
    {
      "cell_type": "code",
      "execution_count": null,
      "metadata": {
        "colab": {
          "base_uri": "https://localhost:8080/"
        },
        "id": "kpkUOBJ2nn28",
        "outputId": "51f11faf-ff0d-4975-c3e1-7430678ec4b5"
      },
      "outputs": [
        {
          "name": "stdout",
          "output_type": "stream",
          "text": [
            "               R850  Row Position  Column Position            name\n",
            "65204997  73.823593            89              247  20190401000000\n",
            "65189992  95.921249            29              242  20190401000000\n",
            "65189993  95.921249            29              243  20190401000000\n",
            "65189994  95.921249            29              244  20190401000000\n",
            "65189995  95.921249            29              245  20190401000000\n",
            "...             ...           ...              ...             ...\n",
            "322498    28.785812            29              248  20201031230000\n",
            "322497    28.785812            29              247  20201031230000\n",
            "322496    42.520187            29              246  20201031230000\n",
            "322504    85.828781            30                4  20201031230000\n",
            "326251    90.610031            45                1  20201031230000\n",
            "\n",
            "[65880000 rows x 4 columns]\n"
          ]
        }
      ],
      "source": [
        "import os\n",
        "import numpy as np\n",
        "from osgeo import gdal\n",
        "import pandas as pd\n",
        "\n",
        "# Đường dẫn tới thư mục chứa các thư mục năm\n",
        "years_folder_path = \"/content/data_folder/Data/era5/R850\"\n",
        "\n",
        "# Hàm để đọc dữ liệu từ một thư mục năm và tạo dataframe\n",
        "def read_year_folder(year_folder):\n",
        "    year_folder_path = os.path.join(years_folder_path, year_folder)\n",
        "    dfs = []\n",
        "    for month_folder in os.listdir(year_folder_path):\n",
        "        month_folder_path = os.path.join(year_folder_path, month_folder)\n",
        "        if os.path.isdir(month_folder_path):\n",
        "            for day_folder in os.listdir(month_folder_path):\n",
        "                day_folder_path = os.path.join(month_folder_path, day_folder)\n",
        "                if os.path.isdir(day_folder_path):\n",
        "                    for file in os.listdir(day_folder_path):\n",
        "                        if file.endswith(\".tif\"):\n",
        "                            tif_file = os.path.join(day_folder_path, file)\n",
        "                            ds = gdal.Open(tif_file)\n",
        "                            myarray = np.array(ds.GetRasterBand(1).ReadAsArray())\n",
        "                            values = myarray[(myarray > 0)]\n",
        "                            row_indices, col_indices = np.where(myarray > 0)\n",
        "                            data = {'R850': values,\n",
        "                                    'Row Position': row_indices,\n",
        "                                    'Column Position': col_indices}\n",
        "                            df = pd.DataFrame(data)\n",
        "                            df['name'] = os.path.splitext(file)[0].replace(\"R850_\", \"\")\n",
        "                            dfs.append(df)\n",
        "    return pd.concat(dfs, ignore_index=True)\n",
        "\n",
        "# Tạo dataframe tổng hợp từ tất cả các thư mục năm\n",
        "dfs_all_years = []\n",
        "for year_folder in os.listdir(years_folder_path):\n",
        "    if os.path.isdir(os.path.join(years_folder_path, year_folder)):\n",
        "        dfs_all_years.append(read_year_folder(year_folder))\n",
        "\n",
        "# Kết hợp các dataframe lại thành một dataframe duy nhất cho tất cả các năm\n",
        "r850_all_years = pd.concat(dfs_all_years, ignore_index=True)\n",
        "\n",
        "# Sắp xếp lại theo cột 'name' theo giá trị tăng dần\n",
        "r850_all_years = r850_all_years.sort_values(by='name')\n",
        "\n",
        "# Hiển thị dataframe kết quả\n",
        "print(r850_all_years)\n"
      ]
    },
    {
      "cell_type": "code",
      "execution_count": null,
      "metadata": {
        "id": "jX7-OL3TpmBA"
      },
      "outputs": [],
      "source": [
        "# Tạo file CSV từ dataframe result_df_all_years\n",
        "r850_all_years.to_csv('/content/r850_all_years.csv', index=False)"
      ]
    },
    {
      "cell_type": "markdown",
      "metadata": {
        "id": "Kc-xSSIroH9y"
      },
      "source": [
        "###SLHF"
      ]
    },
    {
      "cell_type": "code",
      "execution_count": null,
      "metadata": {
        "colab": {
          "base_uri": "https://localhost:8080/"
        },
        "id": "vS3ZXsv8noML",
        "outputId": "0a14b68f-984d-4ce3-823f-d788dcd0d0d8"
      },
      "outputs": [
        {
          "name": "stdout",
          "output_type": "stream",
          "text": [
            "            SLHF  Row Position  Column Position            name\n",
            "3123322  11609.0            64              132  20190401000000\n",
            "3123197   9241.0            48               55  20190401000000\n",
            "3123196   9241.0            48               54  20190401000000\n",
            "3123195   9241.0            48               53  20190401000000\n",
            "3123194  19353.0            48               52  20190401000000\n",
            "...          ...           ...              ...             ...\n",
            "39032     1801.0            19               30  20201031230000\n",
            "39031     1801.0            19               29  20201031230000\n",
            "39030     1801.0            19               28  20201031230000\n",
            "39094     7369.0            19              104  20201031230000\n",
            "39997     5769.0            28              101  20201031230000\n",
            "\n",
            "[3201014 rows x 4 columns]\n"
          ]
        }
      ],
      "source": [
        "import os\n",
        "import numpy as np\n",
        "from osgeo import gdal\n",
        "import pandas as pd\n",
        "\n",
        "# Đường dẫn tới thư mục chứa các thư mục năm\n",
        "years_folder_path = \"/content/data_folder/Data/era5/SLHF\"\n",
        "\n",
        "# Hàm để đọc dữ liệu từ một thư mục năm và tạo dataframe\n",
        "def read_year_folder(year_folder):\n",
        "    year_folder_path = os.path.join(years_folder_path, year_folder)\n",
        "    dfs = []\n",
        "    for month_folder in os.listdir(year_folder_path):\n",
        "        month_folder_path = os.path.join(year_folder_path, month_folder)\n",
        "        if os.path.isdir(month_folder_path):\n",
        "            for day_folder in os.listdir(month_folder_path):\n",
        "                day_folder_path = os.path.join(month_folder_path, day_folder)\n",
        "                if os.path.isdir(day_folder_path):\n",
        "                    for file in os.listdir(day_folder_path):\n",
        "                        if file.endswith(\".tif\"):\n",
        "                            tif_file = os.path.join(day_folder_path, file)\n",
        "                            ds = gdal.Open(tif_file)\n",
        "                            myarray = np.array(ds.GetRasterBand(1).ReadAsArray())\n",
        "                            values = myarray[(myarray > 0)]\n",
        "                            row_indices, col_indices = np.where(myarray > 0)\n",
        "                            data = {'SLHF': values,\n",
        "                                    'Row Position': row_indices,\n",
        "                                    'Column Position': col_indices}\n",
        "                            df = pd.DataFrame(data)\n",
        "                            df['name'] = os.path.splitext(file)[0].replace(\"SLHF_\", \"\")\n",
        "                            dfs.append(df)\n",
        "    return pd.concat(dfs, ignore_index=True)\n",
        "\n",
        "# Tạo dataframe tổng hợp từ tất cả các thư mục năm\n",
        "dfs_all_years = []\n",
        "for year_folder in os.listdir(years_folder_path):\n",
        "    if os.path.isdir(os.path.join(years_folder_path, year_folder)):\n",
        "        dfs_all_years.append(read_year_folder(year_folder))\n",
        "\n",
        "# Kết hợp các dataframe lại thành một dataframe duy nhất cho tất cả các năm\n",
        "slhf_all_years = pd.concat(dfs_all_years, ignore_index=True)\n",
        "\n",
        "# Sắp xếp lại theo cột 'name' theo giá trị tăng dần\n",
        "slhf_all_years = slhf_all_years.sort_values(by='name')\n",
        "\n",
        "# Hiển thị dataframe kết quả\n",
        "print(slhf_all_years)\n"
      ]
    },
    {
      "cell_type": "markdown",
      "metadata": {
        "id": "R8eqZJRBoLad"
      },
      "source": [
        "###TCLW"
      ]
    },
    {
      "cell_type": "code",
      "execution_count": null,
      "metadata": {
        "id": "-E_eOc5IoHJn"
      },
      "outputs": [],
      "source": [
        "import os\n",
        "import numpy as np\n",
        "from osgeo import gdal\n",
        "import pandas as pd\n",
        "\n",
        "# Đường dẫn tới thư mục chứa các thư mục năm\n",
        "years_folder_path = \"/content/data_folder/Data/era5/TCLW\"\n",
        "\n",
        "# Hàm để đọc dữ liệu từ một thư mục năm và tạo dataframe\n",
        "def read_year_folder(year_folder):\n",
        "    year_folder_path = os.path.join(years_folder_path, year_folder)\n",
        "    dfs = []\n",
        "    for month_folder in os.listdir(year_folder_path):\n",
        "        month_folder_path = os.path.join(year_folder_path, month_folder)\n",
        "        if os.path.isdir(month_folder_path):\n",
        "            for day_folder in os.listdir(month_folder_path):\n",
        "                day_folder_path = os.path.join(month_folder_path, day_folder)\n",
        "                if os.path.isdir(day_folder_path):\n",
        "                    for file in os.listdir(day_folder_path):\n",
        "                        if file.endswith(\".tif\"):\n",
        "                            tif_file = os.path.join(day_folder_path, file)\n",
        "                            ds = gdal.Open(tif_file)\n",
        "                            myarray = np.array(ds.GetRasterBand(1).ReadAsArray())\n",
        "                            values = myarray[(myarray > 0)]\n",
        "                            row_indices, col_indices = np.where(myarray > 0)\n",
        "                            data = {'TCLW': values,\n",
        "                                    'Row Position': row_indices,\n",
        "                                    'Column Position': col_indices}\n",
        "                            df = pd.DataFrame(data)\n",
        "                            df['name'] = os.path.splitext(file)[0].replace(\"TCLW_\", \"\")\n",
        "                            dfs.append(df)\n",
        "    return pd.concat(dfs, ignore_index=True)\n",
        "\n",
        "# Tạo dataframe tổng hợp từ tất cả các thư mục năm\n",
        "dfs_all_years = []\n",
        "for year_folder in os.listdir(years_folder_path):\n",
        "    if os.path.isdir(os.path.join(years_folder_path, year_folder)):\n",
        "        dfs_all_years.append(read_year_folder(year_folder))\n",
        "\n",
        "# Kết hợp các dataframe lại thành một dataframe duy nhất cho tất cả các năm\n",
        "tclw_all_years = pd.concat(dfs_all_years, ignore_index=True)\n",
        "\n",
        "# Sắp xếp lại theo cột 'name' theo giá trị tăng dần\n",
        "tclw_all_years = tclw_all_years.sort_values(by='name')\n",
        "\n",
        "# Hiển thị dataframe kết quả\n",
        "print(tclw_all_years)\n"
      ]
    },
    {
      "cell_type": "markdown",
      "metadata": {
        "id": "ZjVppOqcqdxT"
      },
      "source": [
        "###TCWV"
      ]
    },
    {
      "cell_type": "code",
      "execution_count": null,
      "metadata": {
        "id": "LUhAB2jWnoqO"
      },
      "outputs": [],
      "source": [
        "import os\n",
        "import numpy as np\n",
        "from osgeo import gdal\n",
        "import pandas as pd\n",
        "\n",
        "# Đường dẫn tới thư mục chứa các thư mục năm\n",
        "years_folder_path = \"/content/data_folder/Data/era5/TCWV\"\n",
        "\n",
        "# Hàm để đọc dữ liệu từ một thư mục năm và tạo dataframe\n",
        "def read_year_folder(year_folder):\n",
        "    year_folder_path = os.path.join(years_folder_path, year_folder)\n",
        "    dfs = []\n",
        "    for month_folder in os.listdir(year_folder_path):\n",
        "        month_folder_path = os.path.join(year_folder_path, month_folder)\n",
        "        if os.path.isdir(month_folder_path):\n",
        "            for day_folder in os.listdir(month_folder_path):\n",
        "                day_folder_path = os.path.join(month_folder_path, day_folder)\n",
        "                if os.path.isdir(day_folder_path):\n",
        "                    for file in os.listdir(day_folder_path):\n",
        "                        if file.endswith(\".tif\"):\n",
        "                            tif_file = os.path.join(day_folder_path, file)\n",
        "                            ds = gdal.Open(tif_file)\n",
        "                            myarray = np.array(ds.GetRasterBand(1).ReadAsArray())\n",
        "                            values = myarray[(myarray > 0)]\n",
        "                            row_indices, col_indices = np.where(myarray > 0)\n",
        "                            data = {'TCWV': values,\n",
        "                                    'Row Position': row_indices,\n",
        "                                    'Column Position': col_indices}\n",
        "                            df = pd.DataFrame(data)\n",
        "                            df['name'] = os.path.splitext(file)[0].replace(\"TCWV_\", \"\")\n",
        "                            dfs.append(df)\n",
        "    return pd.concat(dfs, ignore_index=True)\n",
        "\n",
        "# Tạo dataframe tổng hợp từ tất cả các thư mục năm\n",
        "dfs_all_years = []\n",
        "for year_folder in os.listdir(years_folder_path):\n",
        "    if os.path.isdir(os.path.join(years_folder_path, year_folder)):\n",
        "        dfs_all_years.append(read_year_folder(year_folder))\n",
        "\n",
        "# Kết hợp các dataframe lại thành một dataframe duy nhất cho tất cả các năm\n",
        "tcwv_all_years = pd.concat(dfs_all_years, ignore_index=True)\n",
        "\n",
        "# Sắp xếp lại theo cột 'name' theo giá trị tăng dần\n",
        "tcwv_all_years = tcwv_all_years.sort_values(by='name')\n",
        "\n",
        "# Hiển thị dataframe kết quả\n",
        "print(tcwv_all_years)\n"
      ]
    },
    {
      "cell_type": "code",
      "execution_count": null,
      "metadata": {
        "id": "VuDlMz7Tno23"
      },
      "outputs": [],
      "source": []
    },
    {
      "cell_type": "markdown",
      "source": [
        "##DEM"
      ],
      "metadata": {
        "id": "I6tQVlY72hY7"
      }
    },
    {
      "cell_type": "code",
      "source": [
        "import numpy as np\n",
        "from osgeo import gdal\n",
        "ds = gdal.Open(\"/content/data_folder/Data/DEM_BTB.tif\")\n",
        "dem = np.array(ds.GetRasterBand(1).ReadAsArray())\n"
      ],
      "metadata": {
        "id": "otGTtFqk2iqf"
      },
      "execution_count": null,
      "outputs": []
    },
    {
      "cell_type": "code",
      "source": [
        "import pandas as pd\n",
        "import numpy as np\n",
        "\n",
        "# Giả sử arr là NumPy array của bạn\n",
        "\n",
        "# Tạo các mảng tương ứng với hàng và cột\n",
        "row_positions, column_positions = np.indices(dem.shape)\n",
        "\n",
        "# Tạo DataFrame từ các mảng này và giá trị DEM từ arr\n",
        "dem_df = pd.DataFrame({\n",
        "    'Row Position': row_positions.flatten(),\n",
        "    'Column Position': column_positions.flatten(),\n",
        "    'DEM': dem.flatten()\n",
        "})"
      ],
      "metadata": {
        "id": "XqqoZEZV7jbT"
      },
      "execution_count": null,
      "outputs": []
    },
    {
      "cell_type": "code",
      "source": [
        "print(dem_df)"
      ],
      "metadata": {
        "colab": {
          "base_uri": "https://localhost:8080/"
        },
        "id": "gCd1fPUR7oQY",
        "outputId": "31bc0932-1b0b-4770-a5b7-d4aaa1ad58cf"
      },
      "execution_count": null,
      "outputs": [
        {
          "output_type": "stream",
          "name": "stdout",
          "text": [
            "       Row Position  Column Position    DEM\n",
            "0                 0                0    925\n",
            "1                 0                1    853\n",
            "2                 0                2    948\n",
            "3                 0                3   1312\n",
            "4                 0                4   1456\n",
            "...             ...              ...    ...\n",
            "22495            89              245  32767\n",
            "22496            89              246  32767\n",
            "22497            89              247  32767\n",
            "22498            89              248  32767\n",
            "22499            89              249  32767\n",
            "\n",
            "[22500 rows x 3 columns]\n"
          ]
        }
      ]
    },
    {
      "cell_type": "code",
      "source": [
        "obs_copy = obs_combine_2020.copy()\n",
        "obs_merge_dem = obs_copy.merge(dem_df, on=['Row Position', 'Column Position'], how='left', suffixes=('', '_dem'))\n"
      ],
      "metadata": {
        "id": "ebf5o7B5-R6O"
      },
      "execution_count": null,
      "outputs": []
    },
    {
      "cell_type": "code",
      "source": [
        "print(obs_merge_dem)"
      ],
      "metadata": {
        "colab": {
          "base_uri": "https://localhost:8080/"
        },
        "id": "i4WU7JM2-l46",
        "outputId": "4f64880a-a0e1-4ad7-b42d-74621050c77e"
      },
      "execution_count": null,
      "outputs": [
        {
          "output_type": "stream",
          "name": "stdout",
          "text": [
            "       AWS  Row Position  Column Position            name   DEM\n",
            "0      0.2            60              107  20200401000000    69\n",
            "1      0.0            60              112  20200401000000    25\n",
            "2      0.0            51              101  20200401000000    44\n",
            "3      0.0            51               93  20200401000000   270\n",
            "4      0.0            50              108  20200401000000   241\n",
            "...    ...           ...              ...             ...   ...\n",
            "99995  0.0             6               86  20201031230000  1013\n",
            "99996  0.0             8              111  20201031230000   120\n",
            "99997  0.0             9              108  20201031230000   226\n",
            "99998  0.0            32              105  20201031230000   126\n",
            "99999  0.0            12              119  20201031230000    20\n",
            "\n",
            "[100000 rows x 5 columns]\n"
          ]
        }
      ]
    },
    {
      "cell_type": "markdown",
      "metadata": {
        "id": "L79oLm191Ezj"
      },
      "source": [
        "#Sol 2: create dataframe"
      ]
    },
    {
      "cell_type": "markdown",
      "metadata": {
        "id": "HZ8jdmEpzKGd"
      },
      "source": [
        "**Only get cells with value > 0 in obs**"
      ]
    },
    {
      "cell_type": "markdown",
      "metadata": {
        "id": "-9VOLgzoyht2"
      },
      "source": [
        "### Get Col, Row and name"
      ]
    },
    {
      "cell_type": "code",
      "execution_count": null,
      "metadata": {
        "colab": {
          "base_uri": "https://localhost:8080/"
        },
        "id": "Y57-9BOjlR4U",
        "outputId": "e7d23b01-9e66-4f8c-adb9-92d8d2ea52ce"
      },
      "outputs": [
        {
          "output_type": "stream",
          "name": "stdout",
          "text": [
            "       Row Position  Column Position            name\n",
            "0                60              107  20200401000000\n",
            "1                60              112  20200401000000\n",
            "2                51              101  20200401000000\n",
            "3                51               93  20200401000000\n",
            "4                50              108  20200401000000\n",
            "...             ...              ...             ...\n",
            "99995             6               86  20201031230000\n",
            "99996             8              111  20201031230000\n",
            "99997             9              108  20201031230000\n",
            "99998            32              105  20201031230000\n",
            "99999            12              119  20201031230000\n",
            "\n",
            "[100000 rows x 3 columns]\n"
          ]
        }
      ],
      "source": [
        "# Tạo dataframe mới chỉ với các cột 'Row Position', 'Column Position', và 'name'\n",
        "new_df = pd.DataFrame({\n",
        "    'Row Position': obs_merge_dem['Row Position'],\n",
        "    'Column Position': obs_merge_dem['Column Position'],\n",
        "    'name': obs_merge_dem['name']\n",
        "})\n",
        "\n",
        "# Hiển thị dataframe mới\n",
        "print(new_df)\n"
      ]
    },
    {
      "cell_type": "markdown",
      "metadata": {
        "id": "udZj70wayqVs"
      },
      "source": [
        "###Imerg"
      ]
    },
    {
      "cell_type": "code",
      "execution_count": null,
      "metadata": {
        "colab": {
          "base_uri": "https://localhost:8080/"
        },
        "id": "lXI4d0aYm1tA",
        "outputId": "ac51057c-1641-41a1-ee39-5af1c056a8ea"
      },
      "outputs": [
        {
          "output_type": "stream",
          "name": "stdout",
          "text": [
            "       Row Position  Column Position            name  Imerg\n",
            "0                60              107  20200401000000    0.0\n",
            "1                60              112  20200401000000    0.0\n",
            "2                51              101  20200401000000    0.0\n",
            "3                51               93  20200401000000    0.0\n",
            "4                50              108  20200401000000    0.0\n",
            "...             ...              ...             ...    ...\n",
            "99995             6               86  20201031230000    0.0\n",
            "99996             8              111  20201031230000    0.0\n",
            "99997             9              108  20201031230000    0.0\n",
            "99998            32              105  20201031230000    0.0\n",
            "99999            12              119  20201031230000    0.0\n",
            "\n",
            "[100000 rows x 4 columns]\n"
          ]
        }
      ],
      "source": [
        "import os\n",
        "import numpy as np\n",
        "from osgeo import gdal\n",
        "import pandas as pd\n",
        "\n",
        "# Đường dẫn tới thư mục Imerg\n",
        "imerg_folder_path = \"/content/data_folder/Data/precipitation/imerg/2020\"\n",
        "\n",
        "# Hàm để trích xuất giá trị từ tệp Imerg\n",
        "def extract_imerg_value(file_path, row_pos, col_pos):\n",
        "    ds = gdal.Open(file_path)\n",
        "    myarray = np.array(ds.GetRasterBand(1).ReadAsArray())\n",
        "    return myarray[row_pos, col_pos]\n",
        "\n",
        "# Tạo danh sách các DataFrame\n",
        "dfs = []\n",
        "\n",
        "# Duyệt qua từng hàng trong dataframe new_df\n",
        "for index, row in new_df.iterrows():\n",
        "    name = row['name']\n",
        "    row_pos = row['Row Position']\n",
        "    col_pos = row['Column Position']\n",
        "    month = name[4:6]\n",
        "    day = name[6:8]\n",
        "    imerg_file_name = f\"IMERG_E_{name}.tif\"\n",
        "    imerg_file_path = os.path.join(imerg_folder_path, month, day, imerg_file_name)\n",
        "    if os.path.exists(imerg_file_path):\n",
        "        imerg_value = extract_imerg_value(imerg_file_path, row_pos, col_pos)\n",
        "        dfs.append(pd.DataFrame({'Row Position': [row_pos], 'Column Position': [col_pos], 'name': [name], 'Imerg': [imerg_value]}))\n",
        "\n",
        "# Kết hợp danh sách các DataFrame thành một DataFrame lớn\n",
        "imerg_new_df = pd.concat(dfs, ignore_index=True)\n",
        "\n",
        "# Hiển thị dataframe mới\n",
        "print(imerg_new_df)\n"
      ]
    },
    {
      "cell_type": "code",
      "execution_count": null,
      "metadata": {
        "id": "cl1visebsk4L"
      },
      "outputs": [],
      "source": [
        "# Tạo file CSV từ dataframe result_df_all_years\n",
        "imerg_new_df.to_csv('/content/imerg_2019.csv', index=False)"
      ]
    },
    {
      "cell_type": "markdown",
      "metadata": {
        "id": "nDznM2f7yuCp"
      },
      "source": [
        "###Era5"
      ]
    },
    {
      "cell_type": "markdown",
      "source": [
        "####R500, SLHF, TCWV, TCLW"
      ],
      "metadata": {
        "id": "4gqF39OSAVLv"
      }
    },
    {
      "cell_type": "code",
      "execution_count": null,
      "metadata": {
        "colab": {
          "base_uri": "https://localhost:8080/"
        },
        "id": "7jYDujh0tUrv",
        "outputId": "5534a345-2353-47ce-88a4-ea7673085340"
      },
      "outputs": [
        {
          "output_type": "stream",
          "name": "stdout",
          "text": [
            "DataFrame for R500:\n",
            "       Row Position  Column Position            name       R500\n",
            "0                60              107  20200401000000  12.096150\n",
            "1                60              112  20200401000000  10.998494\n",
            "2                51              101  20200401000000  12.236775\n",
            "3                51               93  20200401000000  12.627400\n",
            "4                50              108  20200401000000  12.310994\n",
            "...             ...              ...             ...        ...\n",
            "99995             6               86  20201031230000  63.045654\n",
            "99996             8              111  20201031230000  81.112061\n",
            "99997             9              108  20201031230000  75.592529\n",
            "99998            32              105  20201031230000  61.518311\n",
            "99999            12              119  20201031230000  81.553467\n",
            "\n",
            "[100000 rows x 4 columns]\n",
            "DataFrame for SLHF:\n",
            "       Row Position  Column Position            name      SLHF\n",
            "0                60              107  20200401000000 -120198.0\n",
            "1                60              112  20200401000000 -137414.0\n",
            "2                51              101  20200401000000 -115014.0\n",
            "3                51               93  20200401000000  -66054.0\n",
            "4                50              108  20200401000000 -123270.0\n",
            "...             ...              ...             ...       ...\n",
            "99995             6               86  20201031230000    1545.0\n",
            "99996             8              111  20201031230000    -183.0\n",
            "99997             9              108  20201031230000    -503.0\n",
            "99998            32              105  20201031230000     777.0\n",
            "99999            12              119  20201031230000   -8247.0\n",
            "\n",
            "[100000 rows x 4 columns]\n",
            "DataFrame for TCLW:\n",
            "       Row Position  Column Position            name      TCLW\n",
            "0                60              107  20200401000000  0.293640\n",
            "1                60              112  20200401000000  0.469543\n",
            "2                51              101  20200401000000  0.237000\n",
            "3                51               93  20200401000000  0.144409\n",
            "4                50              108  20200401000000  0.407593\n",
            "...             ...              ...             ...       ...\n",
            "99995             6               86  20201031230000  0.057526\n",
            "99996             8              111  20201031230000  0.154236\n",
            "99997             9              108  20201031230000  0.100403\n",
            "99998            32              105  20201031230000  0.061432\n",
            "99999            12              119  20201031230000  0.227325\n",
            "\n",
            "[100000 rows x 4 columns]\n",
            "DataFrame for TCWV:\n",
            "       Row Position  Column Position            name       TCWV\n",
            "0                60              107  20200401000000  30.023224\n",
            "1                60              112  20200401000000  34.628693\n",
            "2                51              101  20200401000000  28.972443\n",
            "3                51               93  20200401000000  25.863068\n",
            "4                50              108  20200401000000  32.296661\n",
            "...             ...              ...             ...        ...\n",
            "99995             6               86  20201031230000  39.243698\n",
            "99996             8              111  20201031230000  46.083542\n",
            "99997             9              108  20201031230000  44.476120\n",
            "99998            32              105  20201031230000  43.206589\n",
            "99999            12              119  20201031230000  48.440964\n",
            "\n",
            "[100000 rows x 4 columns]\n"
          ]
        }
      ],
      "source": [
        "import os\n",
        "import numpy as np\n",
        "from osgeo import gdal\n",
        "import pandas as pd\n",
        "\n",
        "# Hàm để trích xuất giá trị từ tệp\n",
        "def extract_value(file_path, row_pos, col_pos):\n",
        "    ds = gdal.Open(file_path)\n",
        "    myarray = np.array(ds.GetRasterBand(1).ReadAsArray())\n",
        "    return myarray[row_pos, col_pos]\n",
        "\n",
        "# Hàm để tạo DataFrame từ thư mục\n",
        "def create_dataframe_from_folder(folder_path, prefix):\n",
        "    dfs = []\n",
        "    for index, row in new_df.iterrows():\n",
        "        name = row['name']\n",
        "        row_pos = row['Row Position']\n",
        "        col_pos = row['Column Position']\n",
        "        year = name[:4]\n",
        "        month = name[4:6]\n",
        "        day = name[6:8]\n",
        "        file_name = f\"{prefix}_{name}.tif\"\n",
        "        file_path = os.path.join(folder_path, year, month, day, file_name)\n",
        "        if os.path.exists(file_path):\n",
        "            value = extract_value(file_path, row_pos, col_pos)\n",
        "            dfs.append(pd.DataFrame({'Row Position': [row_pos], 'Column Position': [col_pos], 'name': [name], prefix: [value]}))\n",
        "    return pd.concat(dfs, ignore_index=True)\n",
        "\n",
        "# Đường dẫn tới các thư mục\n",
        "folder_paths = [\"/content/data_folder/Data/era5/R500\",\n",
        "                \"/content/data_folder/Data/era5/SLHF\",\n",
        "                \"/content/data_folder/Data/era5/TCLW\",\n",
        "                \"/content/data_folder/Data/era5/TCWV\"]\n",
        "\n",
        "# Tạo các DataFrame mới từ các thư mục\n",
        "new_dfs = {}\n",
        "for folder_path in folder_paths:\n",
        "    prefix = os.path.basename(folder_path)\n",
        "    new_dfs[prefix] = create_dataframe_from_folder(folder_path, prefix)\n",
        "\n",
        "# Hiển thị các DataFrame mới\n",
        "for prefix, df in new_dfs.items():\n",
        "    print(f\"DataFrame for {prefix}:\")\n",
        "    print(df)\n"
      ]
    },
    {
      "cell_type": "code",
      "execution_count": null,
      "metadata": {
        "colab": {
          "base_uri": "https://localhost:8080/"
        },
        "id": "AclA0RlYwl-N",
        "outputId": "8fa31c90-aa29-4f46-828b-11ed37b9ca04"
      },
      "outputs": [
        {
          "output_type": "stream",
          "name": "stdout",
          "text": [
            "R500.csv saved successfully.\n",
            "SLHF.csv saved successfully.\n",
            "TCLW.csv saved successfully.\n",
            "TCWV.csv saved successfully.\n"
          ]
        }
      ],
      "source": [
        "# Lưu các DataFrame vào các tệp CSV tương ứng\n",
        "for prefix, df in new_dfs.items():\n",
        "    csv_file_path = f\"{prefix}.csv\"\n",
        "    df.to_csv(csv_file_path, index=False)\n",
        "    print(f\"{csv_file_path} saved successfully.\")"
      ]
    },
    {
      "cell_type": "markdown",
      "metadata": {
        "id": "9JAkzY0IzDgQ"
      },
      "source": [
        "###Merge all data"
      ]
    },
    {
      "cell_type": "code",
      "execution_count": null,
      "metadata": {
        "colab": {
          "base_uri": "https://localhost:8080/"
        },
        "id": "ZC4gjDjQxhX6",
        "outputId": "569cc249-4c9c-4126-b27b-c8ea45bccdfe"
      },
      "outputs": [
        {
          "output_type": "stream",
          "name": "stdout",
          "text": [
            "       AWS  Row Position  Column Position            name   DEM  Imerg  \\\n",
            "0      0.2            60              107  20200401000000    69    0.0   \n",
            "1      0.0            60              112  20200401000000    25    0.0   \n",
            "2      0.0            51              101  20200401000000    44    0.0   \n",
            "3      0.0            51               93  20200401000000   270    0.0   \n",
            "4      0.0            50              108  20200401000000   241    0.0   \n",
            "...    ...           ...              ...             ...   ...    ...   \n",
            "99995  0.0             6               86  20201031230000  1013    0.0   \n",
            "99996  0.0             8              111  20201031230000   120    0.0   \n",
            "99997  0.0             9              108  20201031230000   226    0.0   \n",
            "99998  0.0            32              105  20201031230000   126    0.0   \n",
            "99999  0.0            12              119  20201031230000    20    0.0   \n",
            "\n",
            "            R500      SLHF      TCLW       TCWV  \n",
            "0      12.096150 -120198.0  0.293640  30.023224  \n",
            "1      10.998494 -137414.0  0.469543  34.628693  \n",
            "2      12.236775 -115014.0  0.237000  28.972443  \n",
            "3      12.627400  -66054.0  0.144409  25.863068  \n",
            "4      12.310994 -123270.0  0.407593  32.296661  \n",
            "...          ...       ...       ...        ...  \n",
            "99995  63.045654    1545.0  0.057526  39.243698  \n",
            "99996  81.112061    -183.0  0.154236  46.083542  \n",
            "99997  75.592529    -503.0  0.100403  44.476120  \n",
            "99998  61.518311     777.0  0.061432  43.206589  \n",
            "99999  81.553467   -8247.0  0.227325  48.440964  \n",
            "\n",
            "[100000 rows x 10 columns]\n"
          ]
        }
      ],
      "source": [
        "merge_df = obs_merge_dem.copy()\n",
        "# Nối các DataFrame obs_all_years, imerg_new_df, r500_new_df, r850_new_df và các DataFrame trong new_dfs lại với nhau\n",
        "merged_df = merge_df.merge(imerg_new_df, on=['Row Position', 'Column Position', 'name'], how='outer')\n",
        "\n",
        "for df in new_dfs.values():\n",
        "    merged_df = merged_df.merge(df, on=['Row Position', 'Column Position', 'name'], how='outer')\n",
        "\n",
        "# Hiển thị DataFrame kết quả\n",
        "print(merged_df)"
      ]
    },
    {
      "cell_type": "markdown",
      "metadata": {
        "id": "9g_040n9zGD3"
      },
      "source": [
        "Download"
      ]
    },
    {
      "cell_type": "code",
      "execution_count": null,
      "metadata": {
        "id": "6cXDJl8rxk6T"
      },
      "outputs": [],
      "source": [
        "# Tạo file CSV từ dataframe result_df_all_years\n",
        "merged_df.to_csv('/content/merge_data_2020.csv', index=False)"
      ]
    }
  ],
  "metadata": {
    "colab": {
      "collapsed_sections": [
        "3dUGIgNNVfZ8",
        "AQ4zSWIPVlC3",
        "IffCe7iVVp4v",
        "0Ixt2g1XPqlP",
        "kSobO_vvPmtm",
        "tEHKwWS3yVOl",
        "issDd4qIyOBL",
        "0NcZE0JO0TJ8",
        "ElN7SEyWbJly",
        "zBWqQvXAaQFd",
        "sif91qj4Zy7L",
        "qKBXuMm_Zvv1",
        "rVFsF1jpncuW",
        "ycO5I4vEoDNc",
        "ZrJToZgqoFZt",
        "Kc-xSSIroH9y",
        "R8eqZJRBoLad",
        "ZjVppOqcqdxT",
        "I6tQVlY72hY7",
        "L79oLm191Ezj",
        "-9VOLgzoyht2",
        "udZj70wayqVs",
        "4gqF39OSAVLv",
        "9JAkzY0IzDgQ",
        "n_-dgMcEy-6u",
        "-YkR83qvG0El",
        "NnViguGCkrIl"
      ],
      "provenance": []
    },
    "kernelspec": {
      "display_name": "Python 3",
      "name": "python3"
    },
    "language_info": {
      "name": "python"
    }
  },
  "nbformat": 4,
  "nbformat_minor": 0
}